{
 "cells": [
  {
   "cell_type": "code",
   "execution_count": 1,
   "id": "64294a98",
   "metadata": {},
   "outputs": [
    {
     "name": "stdout",
     "output_type": "stream",
     "text": [
      "Info    : Meshing 1D...\n",
      "Info    : Meshing curve 1 (Line)\n",
      "Info    : Meshing curve 2 (Line)\n",
      "Info    : Meshing curve 3 (Line)\n",
      "Info    : Meshing curve 4 (Line)\n",
      "Info    : Meshing curve 5 (Line)\n",
      "Info    : Meshing curve 6 (Line)\n",
      "Info    : Meshing curve 7 (Line)\n",
      "Info    : Meshing curve 8 (Line)\n",
      "Info    : Done meshing 1D (0.060647 s)\n",
      "Info    : Meshing 2D...\n",
      "Info    : Meshing surface 1 (Plane, Delaunay)\n",
      "Info    : Meshing surface 11 (Plane, Delaunay)\n",
      "Info    : Done meshing 2D (10.2447 s)\n",
      "Info    : 152043 vertices 305052 elements\n",
      "Info    : Writing 'QuenchingTestSpecimen.msh'...\n",
      "Info    : Done writing 'QuenchingTestSpecimen.msh'\n"
     ]
    },
    {
     "name": "stderr",
     "output_type": "stream",
     "text": [
      "Error   : Singular value decomposition requires LAPACK\n",
      "Error   : Singular value decomposition requires LAPACK\n"
     ]
    }
   ],
   "source": [
    "using Gmsh: gmsh\n",
    "const L = 50e-3\n",
    "const B = 4.9e-3\n",
    "const lsp = L/250\n",
    "const hf = lsp/5\n",
    "const h = lsp/2\n",
    "\n",
    "gmsh.initialize()\n",
    "gmsh.option.setNumber(\"General.Terminal\", 1)\n",
    "gmsh.model.geo.addPoint(0.0, B, 0.0, h, 1)  \n",
    "gmsh.model.geo.addPoint(0.0, 0.0, 0.0, h, 2) \n",
    "gmsh.model.geo.addPoint(L, 0.0, 0.0,h, 3) \n",
    "gmsh.model.geo.addPoint(L, 0.3*B, 0.0, h, 4)\n",
    "gmsh.model.geo.addPoint(L, B, 0.0, h, 5)\n",
    "gmsh.model.geo.addPoint(0.3*L, B, 0.0, h, 6)\n",
    "gmsh.model.geo.addPoint(0.3*L, 0.3*B, 0.0, h, 7)\n",
    "\n",
    "gmsh.model.geo.addLine(1, 2, 1)\n",
    "gmsh.model.geo.addLine(2, 3, 2)\n",
    "gmsh.model.geo.addLine(3, 4, 3)\n",
    "gmsh.model.geo.addLine(4, 5, 4)\n",
    "gmsh.model.geo.addLine(5, 6, 5)\n",
    "gmsh.model.geo.addLine(6, 1, 6)\n",
    "gmsh.model.geo.addLine(6, 7, 7)\n",
    "gmsh.model.geo.addLine(7, 4, 8)\n",
    "\n",
    "gmsh.model.geo.addCurveLoop([1,2,3,4,5,6],1)\n",
    "\n",
    "\n",
    "gmsh.model.geo.addCurveLoop([7,8,4,5],11)\n",
    "gmsh.model.geo.addPlaneSurface([11], 11)\n",
    "gmsh.model.geo.addPlaneSurface([1,-11], 1)\n",
    "\n",
    "gmsh.model.addPhysicalGroup(2, [1,11],1)\n",
    "gmsh.model.addPhysicalGroup(1, [3,4],1)\n",
    "gmsh.model.addPhysicalGroup(1, [6,5],2)\n",
    "gmsh.model.addPhysicalGroup(1, [1,2],3)\n",
    "gmsh.model.setPhysicalName(2, 1, \"Domain\")\n",
    "gmsh.model.setPhysicalName(1, 1, \"VerticalSupport\")\n",
    "gmsh.model.setPhysicalName(1, 2, \"HorizontalSupport\")\n",
    "gmsh.model.setPhysicalName(1, 3, \"TempBoundary\")\n",
    "\n",
    "gmsh.model.mesh.field.add(\"Distance\", 1)\n",
    "gmsh.model.mesh.field.setNumbers(1, \"EdgesList\", [6,1,2,3,8,7])\n",
    "\n",
    "gmsh.model.mesh.field.add(\"Threshold\", 2)\n",
    "gmsh.model.mesh.field.setNumber(2, \"IField\", 1)\n",
    "gmsh.model.mesh.field.setNumber(2, \"LcMin\", hf)\n",
    "gmsh.model.mesh.field.setNumber(2, \"LcMax\", h)\n",
    "gmsh.model.mesh.field.setNumber(2, \"DistMin\", 0.2*B)\n",
    "gmsh.model.mesh.field.setNumber(2, \"DistMax\", 0.4*B)\n",
    "gmsh.model.mesh.field.setAsBackgroundMesh(2)\n",
    "\n",
    "gmsh.model.geo.synchronize()\n",
    "gmsh.model.mesh.generate(2)\n",
    "gmsh.write(\"QuenchingTestSpecimen.msh\")\n",
    "gmsh.finalize()"
   ]
  },
  {
   "cell_type": "code",
   "execution_count": 2,
   "id": "7635aa20",
   "metadata": {},
   "outputs": [
    {
     "name": "stdout",
     "output_type": "stream",
     "text": [
      "Info    : Reading 'QuenchingTestSpecimen.msh'...\n",
      "Info    : 17 entities\n",
      "Info    : 152043 nodes\n",
      "Info    : [ 10%] Reading nodes                                          \r",
      "Info    : [ 20%] Reading nodes                                          \r",
      "Info    : [ 30%] Reading nodes                                          \r",
      "Info    : [ 40%] Reading nodes                                          \r",
      "Info    : [ 50%] Reading nodes                                          \r",
      "Info    : [ 60%] Reading nodes                                          \r",
      "Info    : [ 70%] Reading nodes                                          \r",
      "Info    : [ 80%] Reading nodes                                          \r",
      "Info    : [ 90%] Reading nodes                                          \r",
      "Info    : [100%] Reading nodes                                          \r",
      "                                          \r",
      "Info    : 304084 elements\n",
      "Info    : [ 10%] Reading elements                                          \r",
      "Info    : [ 20%] Reading elements                                          \r",
      "Info    : [ 30%] Reading elements                                          \r",
      "Info    : [ 40%] Reading elements                                          \r",
      "Info    : [ 50%] Reading elements                                          \r",
      "Info    : [ 50%] Reading elements                                          \r",
      "Info    : [ 60%] Reading elements                                          \r",
      "Info    : [ 70%] Reading elements                                          \r",
      "Info    : [ 80%] Reading elements                                          \r",
      "Info    : [ 90%] Reading elements                                          \r",
      "Info    : [100%] Reading elements                                          \r",
      "                                          \r",
      "Info    : Done reading 'QuenchingTestSpecimen.msh'\n"
     ]
    },
    {
     "data": {
      "text/plain": [
       "3-element Vector{Vector{String}}:\n",
       " [\"QuenchingTestSpecimen_0.vtu\"]\n",
       " [\"QuenchingTestSpecimen_1.vtu\"]\n",
       " [\"QuenchingTestSpecimen_2.vtu\"]"
      ]
     },
     "execution_count": 2,
     "metadata": {},
     "output_type": "execute_result"
    }
   ],
   "source": [
    "using  GridapGmsh\n",
    "using  Gridap\n",
    "using  Gridap.Geometry\n",
    "using  Gridap.TensorValues\n",
    "\n",
    "model = GmshDiscreteModel(\"QuenchingTestSpecimen.msh\")\n",
    "writevtk(model,\"QuenchingTestSpecimen\")"
   ]
  }
 ],
 "metadata": {
  "kernelspec": {
   "display_name": "Julia 1.6.2",
   "language": "julia",
   "name": "julia-1.6"
  },
  "language_info": {
   "file_extension": ".jl",
   "mimetype": "application/julia",
   "name": "julia",
   "version": "1.6.2"
  }
 },
 "nbformat": 4,
 "nbformat_minor": 5
}
