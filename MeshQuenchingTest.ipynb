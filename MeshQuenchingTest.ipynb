{
 "cells": [
  {
   "cell_type": "code",
   "execution_count": 1,
   "id": "separated-melbourne",
   "metadata": {},
   "outputs": [
    {
     "name": "stdout",
     "output_type": "stream",
     "text": [
      "Info    : Meshing 1D...\n",
      "Info    : [  0%] Meshing curve 1 (Line)\n",
      "Info    : [ 20%] Meshing curve 2 (Line)\n",
      "Info    : [ 30%] Meshing curve 3 (Line)\n",
      "Info    : [ 40%] Meshing curve 4 (Line)\n",
      "Info    : [ 50%] Meshing curve 5 (Line)\n",
      "Info    : [ 70%] Meshing curve 6 (Line)\n",
      "Info    : [ 80%] Meshing curve 7 (Line)\n",
      "Info    : [ 90%] Meshing curve 8 (Line)\n",
      "Info    : Done meshing 1D (Wall 0.00332676s, CPU 0.00333s)\n",
      "Info    : Meshing 2D...\n",
      "Info    : [  0%] Meshing surface 1 (Plane, Frontal-Delaunay)\n",
      "Info    : [ 50%] Meshing surface 11 (Plane, Frontal-Delaunay)\n",
      "Info    : Done meshing 2D (Wall 1.34903s, CPU 1.34955s)\n",
      "Info    : 44698 nodes 89820 elements\n",
      "Info    : Writing 'Quenching.msh'...\n",
      "Info    : Done writing 'Quenching.msh'\n"
     ]
    },
    {
     "name": "stderr",
     "output_type": "stream",
     "text": [
      "Warning : Unknown entity of dimension 2 and tag 1 in physical group 1\n",
      "Warning : Unknown entity of dimension 2 and tag 11 in physical group 1\n",
      "Warning : Unknown entity of dimension 1 and tag 3 in physical group 1\n",
      "Warning : Unknown entity of dimension 1 and tag 4 in physical group 1\n",
      "Warning : Unknown entity of dimension 1 and tag 6 in physical group 2\n",
      "Warning : Unknown entity of dimension 1 and tag 5 in physical group 2\n",
      "Warning : Unknown entity of dimension 1 and tag 1 in physical group 3\n",
      "Warning : Unknown entity of dimension 1 and tag 2 in physical group 3\n"
     ]
    }
   ],
   "source": [
    "using gmsh\n",
    "\n",
    "const L = 25e-3\n",
    "const B = 4.9e-3\n",
    "const lsp = (2*L)/200\n",
    "const hf = lsp/5\n",
    "const h = lsp/2\n",
    "\n",
    "gmsh.initialize()\n",
    "gmsh.option.setNumber(\"General.Terminal\", 1)\n",
    "gmsh.model.geo.addPoint(0.0, B, 0.0, h, 1)  \n",
    "gmsh.model.geo.addPoint(0.0, 0.0, 0.0, h, 2) \n",
    "gmsh.model.geo.addPoint(L, 0.0, 0.0,h, 3) \n",
    "gmsh.model.geo.addPoint(L, 0.3*B, 0.0, h, 4)\n",
    "gmsh.model.geo.addPoint(L, B, 0.0, h, 5)\n",
    "gmsh.model.geo.addPoint(0.3*L, B, 0.0, h, 6)\n",
    "gmsh.model.geo.addPoint(0.3*L, 0.3*B, 0.0, h, 7)\n",
    "\n",
    "gmsh.model.geo.addLine(1, 2, 1)\n",
    "gmsh.model.geo.addLine(2, 3, 2)\n",
    "gmsh.model.geo.addLine(3, 4, 3)\n",
    "gmsh.model.geo.addLine(4, 5, 4)\n",
    "gmsh.model.geo.addLine(5, 6, 5)\n",
    "gmsh.model.geo.addLine(6, 1, 6)\n",
    "gmsh.model.geo.addLine(6, 7, 7)\n",
    "gmsh.model.geo.addLine(7, 4, 8)\n",
    "\n",
    "gmsh.model.geo.addCurveLoop([1,2,3,4,5,6],1)\n",
    "\n",
    "\n",
    "gmsh.model.geo.addCurveLoop([7,8,4,5],11)\n",
    "gmsh.model.geo.addPlaneSurface([11], 11)\n",
    "gmsh.model.geo.addPlaneSurface([1,-11], 1)\n",
    "\n",
    "gmsh.model.addPhysicalGroup(2, [1,11],1)\n",
    "gmsh.model.addPhysicalGroup(1, [3,4],1)\n",
    "gmsh.model.addPhysicalGroup(1, [6,5],2)\n",
    "gmsh.model.addPhysicalGroup(1, [1,2],3)\n",
    "gmsh.model.setPhysicalName(2, 1, \"Domain\")\n",
    "gmsh.model.setPhysicalName(1, 1, \"VerticalSupport\")\n",
    "gmsh.model.setPhysicalName(1, 2, \"HorizontalSupport\")\n",
    "gmsh.model.setPhysicalName(1, 3, \"TempBoundary\")\n",
    "\n",
    "gmsh.model.mesh.field.add(\"Distance\", 1)\n",
    "gmsh.model.mesh.field.setNumbers(1, \"CurvesList\", [6,1,2,3,8,7])\n",
    "\n",
    "gmsh.model.mesh.field.add(\"Threshold\", 2)\n",
    "gmsh.model.mesh.field.setNumber(2, \"InField\", 1)\n",
    "gmsh.model.mesh.field.setNumber(2, \"SizeMin\", hf)\n",
    "gmsh.model.mesh.field.setNumber(2, \"SizeMax\", h)\n",
    "gmsh.model.mesh.field.setNumber(2, \"DistMin\", 0.2*B)\n",
    "gmsh.model.mesh.field.setNumber(2, \"DistMax\", 0.4*B)\n",
    "\n",
    "gmsh.model.mesh.field.setAsBackgroundMesh(2)\n",
    "\n",
    "gmsh.model.geo.synchronize()\n",
    "gmsh.model.mesh.generate(2)\n",
    "gmsh.write(\"Quenching.msh\")\n",
    "gmsh.finalize()"
   ]
  },
  {
   "cell_type": "code",
   "execution_count": null,
   "id": "5ce00fff",
   "metadata": {},
   "outputs": [
    {
     "name": "stdout",
     "output_type": "stream",
     "text": [
      "Info    : Reading 'Quenching.msh'...\n",
      "Info    : 17 entities\n",
      "Info    : 44698 nodes\n",
      "Info    : 89394 elements\n",
      "Info    : Done reading 'Quenching.msh'\n"
     ]
    }
   ],
   "source": [
    "using  GridapGmsh\n",
    "using  Gridap\n",
    "using  Gridap.Geometry\n",
    "using  Gridap.TensorValues\n",
    "\n",
    "model = GmshDiscreteModel(\"Quenching.msh\")\n",
    "writevtk(model,\"Quenching\")"
   ]
  }
 ],
 "metadata": {
  "@webio": {
   "lastCommId": null,
   "lastKernelId": null
  },
  "kernelspec": {
   "display_name": "Julia 1.5.3",
   "language": "julia",
   "name": "julia-1.5"
  },
  "language_info": {
   "file_extension": ".jl",
   "mimetype": "application/julia",
   "name": "julia",
   "version": "1.5.3"
  }
 },
 "nbformat": 4,
 "nbformat_minor": 5
}
