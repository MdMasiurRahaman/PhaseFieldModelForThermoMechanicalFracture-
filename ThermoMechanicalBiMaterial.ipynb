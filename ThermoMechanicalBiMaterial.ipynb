{
 "cells": [
  {
   "cell_type": "code",
   "execution_count": null,
   "id": "2aa2bde2",
   "metadata": {},
   "outputs": [],
   "source": [
    "using Gmsh: gmsh\n",
    "using GridapGmsh\n",
    "using Gridap\n",
    "using Gridap.Geometry\n",
    "using Gridap.TensorValues\n",
    "using Plots"
   ]
  },
  {
   "cell_type": "code",
   "execution_count": null,
   "id": "ecdc7825",
   "metadata": {},
   "outputs": [],
   "source": [
    "I2 = SymTensorValue{2,Float64}(1.0,0.0,1.0)\n",
    "I4 = I2⊗I2\n",
    "I4_sym = one(SymFourthOrderTensorValue{2,Float64})\n",
    "I4_vol = (1.0/2)*I4\n",
    "I4_dev = I4_sym - I4_vol"
   ]
  },
  {
   "cell_type": "code",
   "execution_count": null,
   "id": "efdd8166",
   "metadata": {},
   "outputs": [],
   "source": [
    "const L = 150\n",
    "const B_b = 31.7\n",
    "const B_s = 3.17\n",
    "const CrckPos = 30\n",
    "const ch = 15\n",
    "const cw = 0.1\n",
    "const lsp = 3*cw\n",
    "const hfc = lsp/4\n",
    "const hf = lsp/4\n",
    "const h = B_b/15\n",
    "gmsh.initialize()\n",
    "gmsh.option.setNumber(\"General.Terminal\", 1)\n",
    "gmsh.model.geo.addPoint(0.0, 0.0, 0.0, h, 1)\n",
    "gmsh.model.geo.addPoint(CrckPos, 0.0, 0.0, h, 2)\n",
    "gmsh.model.geo.addPoint(CrckPos, ch, 0.0, h, 3)\n",
    "gmsh.model.geo.addPoint(CrckPos+cw, ch, 0.0, h, 4)\n",
    "gmsh.model.geo.addPoint(CrckPos+cw, 0, 0.0, h, 5)\n",
    "gmsh.model.geo.addPoint(L, 0.0, 0.0, h, 6)\n",
    "gmsh.model.geo.addPoint(L, B_b, 0.0, h, 7)\n",
    "gmsh.model.geo.addPoint(L, B_b + B_s, 0.0, h, 8)\n",
    "gmsh.model.geo.addPoint(0, B_b + B_s, 0.0, h, 9)\n",
    "gmsh.model.geo.addPoint(0, B_b, 0.0, h, 10)\n",
    "\n",
    "gmsh.model.geo.addLine(1, 2, 1)\n",
    "gmsh.model.geo.addLine(2, 3, 2)\n",
    "gmsh.model.geo.addLine(3, 4, 3)\n",
    "gmsh.model.geo.addLine(4, 5, 4)\n",
    "gmsh.model.geo.addLine(5, 6, 5)\n",
    "gmsh.model.geo.addLine(6, 7, 6)\n",
    "gmsh.model.geo.addLine(7, 8, 7)\n",
    "gmsh.model.geo.addLine(8, 9, 8)\n",
    "gmsh.model.geo.addLine(9, 10, 9)\n",
    "gmsh.model.geo.addLine(10, 1, 10)\n",
    "gmsh.model.geo.addLine(7, 10, 11)\n",
    "\n",
    "gmsh.model.geo.addCurveLoop([1,2,3,4,5,6,11,10],1) \n",
    "gmsh.model.geo.addPlaneSurface([1], 1)\n",
    "gmsh.model.geo.addCurveLoop([-11,7,8,9],2) \n",
    "gmsh.model.geo.addPlaneSurface([2], 2)\n",
    "\n",
    "gmsh.model.addPhysicalGroup(2, [1],1)\n",
    "gmsh.model.addPhysicalGroup(2, [2],2)\n",
    "gmsh.model.addPhysicalGroup(1, [1,2,3,4,5,6,7,8,9,10],1)\n",
    "gmsh.model.setPhysicalName(2, 1, \"BGlass\")\n",
    "gmsh.model.setPhysicalName(2, 2, \"SSteel\")\n",
    "gmsh.model.setPhysicalName(1, 1, \"Boundary\")\n",
    "\n",
    "gmsh.model.mesh.field.add(\"Box\", 20)\n",
    "gmsh.model.mesh.field.setNumber(20, \"VIn\", hf)\n",
    "gmsh.model.mesh.field.setNumber(20, \"VOut\", h)\n",
    "gmsh.model.mesh.field.setNumber(20, \"XMin\", 0.8*CrckPos)\n",
    "gmsh.model.mesh.field.setNumber(20, \"XMax\",2.3*CrckPos)\n",
    "gmsh.model.mesh.field.setNumber(20, \"YMin\",0.85*ch)\n",
    "gmsh.model.mesh.field.setNumber(20, \"YMax\",B_b)\n",
    "gmsh.model.mesh.field.setAsBackgroundMesh(20)\n",
    "\n",
    "\n",
    "gmsh.model.geo.synchronize()\n",
    "gmsh.model.mesh.generate(2)\n",
    "gmsh.write(\"BiMaterial.msh\")\n",
    "gmsh.finalize()"
   ]
  },
  {
   "cell_type": "code",
   "execution_count": null,
   "id": "f9df85be",
   "metadata": {},
   "outputs": [],
   "source": [
    "model = GmshDiscreteModel(\"BiMaterial.msh\")\n",
    "writevtk(model,\"BiMaterial\")"
   ]
  },
  {
   "cell_type": "code",
   "execution_count": null,
   "id": "5a21dcc4",
   "metadata": {},
   "outputs": [],
   "source": [
    "using Gridap.Geometry\n",
    "labels = get_face_labeling(model)\n",
    "dimension = 2\n",
    "mat_tags = get_face_tag(labels,dimension)\n",
    "const BGlass_tag = get_tag_from_name(labels,\"BGlass\")\n",
    "const SSteel_tag = get_tag_from_name(labels,\"SSteel\")"
   ]
  },
  {
   "cell_type": "code",
   "execution_count": null,
   "id": "annoying-convergence",
   "metadata": {},
   "outputs": [],
   "source": [
    "const E_BGlass = 64e3\n",
    "const ν_BGlass = 0.2\n",
    "G₁₂_BGlass = E_BGlass/(2*(1+ν_BGlass))\n",
    "\n",
    "const E_SSteel = 193e3\n",
    "const ν_SSteel = 0.29\n",
    "G₁₂_SSteel = E_SSteel/(2*(1+ν_SSteel))"
   ]
  },
  {
   "cell_type": "markdown",
   "id": "4d19c209",
   "metadata": {},
   "source": [
    "#### Input fracture parameters"
   ]
  },
  {
   "cell_type": "code",
   "execution_count": null,
   "id": "e7cc4577",
   "metadata": {},
   "outputs": [],
   "source": [
    "const Gc_BGlass = 0.4\n",
    "const Gc_SSteel = 50\n",
    "const η = 1e-8"
   ]
  },
  {
   "cell_type": "code",
   "execution_count": null,
   "id": "binding-muslim",
   "metadata": {},
   "outputs": [],
   "source": [
    "function Gc(s_id,tag)\n",
    "        if tag == BGlass_tag          \n",
    "            return  Gc_BGlass*s_id\n",
    "        elseif tag == SSteel_tag    \n",
    "            return Gc_SSteel*s_id\n",
    "        end\n",
    "end"
   ]
  },
  {
   "cell_type": "markdown",
   "id": "9f8f1d16",
   "metadata": {},
   "source": [
    "#### Input Thermal parameter "
   ]
  },
  {
   "cell_type": "code",
   "execution_count": null,
   "id": "48b2074b",
   "metadata": {},
   "outputs": [],
   "source": [
    "const α_BGlass = 3.25e-6\n",
    "const α_SSteel = 17.3e-6\n",
    "const T0 = 300.0"
   ]
  },
  {
   "cell_type": "markdown",
   "id": "2308089d",
   "metadata": {},
   "source": [
    "## Constitutive Matrices"
   ]
  },
  {
   "cell_type": "markdown",
   "id": "c1785888",
   "metadata": {},
   "source": [
    "### Elastic stiffness tensor"
   ]
  },
  {
   "cell_type": "code",
   "execution_count": null,
   "id": "6007f42c",
   "metadata": {},
   "outputs": [],
   "source": [
    "function ElasFourthOrderConstTensor(E ,ν , PlanarState)\n",
    "# 1 for Plane Stress and 2 Plane Strain Condition\n",
    "if PlanarState == 1\n",
    "C1111 = E /(1 -ν *ν )\n",
    "C1122 = (ν *E ) /(1 -ν *ν )\n",
    "C1112 = 0.0\n",
    "C2222 = E /(1 -ν *ν )\n",
    "C2212 = 0.0\n",
    "C1212 = E /(2*(1+ν ) )\n",
    "elseif PlanarState == 2\n",
    "C1111 = (E *(1 -ν *ν ) ) /((1+ν ) *(1 -ν -2*ν *ν ) )\n",
    "C1122 = (ν *E ) /(1 -ν -2*ν *ν )\n",
    "C1112 = 0.0\n",
    "C2222 = (E *(1 -ν ) ) /(1 -ν -2*ν *ν )\n",
    "C2212 = 0.0\n",
    "C1212 = E /(2*(1+ν ) )\n",
    "end\n",
    "C_ten = SymFourthOrderTensorValue(C1111 , C1112 , C1122 , C1112 ,\n",
    "C1212 , C2212 , C1122 , C2212 , C2222)\n",
    "return C_ten\n",
    "end"
   ]
  },
  {
   "cell_type": "code",
   "execution_count": null,
   "id": "f34c3426",
   "metadata": {},
   "outputs": [],
   "source": [
    "const C_BGlass = ElasFourthOrderConstTensor(E_BGlass ,ν_BGlass ,1)\n",
    "const C_SSteel = ElasFourthOrderConstTensor(E_SSteel ,ν_BGlass ,1)"
   ]
  },
  {
   "cell_type": "code",
   "execution_count": null,
   "id": "patent-advice",
   "metadata": {},
   "outputs": [],
   "source": [
    "function σ_elas(ε, T, tag)  \n",
    " if tag == BGlass_tag\n",
    "      return C_BGlass ⊙ (ε - (α_BGlass*I2)*(T-T0))\n",
    "  elseif tag == SSteel_tag\n",
    "      return C_SSteel ⊙ (ε -  (α_SSteel*I2)*(T-T0))\n",
    "  end\n",
    "end"
   ]
  },
  {
   "cell_type": "code",
   "execution_count": null,
   "id": "a1b4a120",
   "metadata": {},
   "outputs": [],
   "source": [
    "function σ_Temp(T,tag)\n",
    " if tag == BGlass_tag\n",
    "      return C_BGlass ⊙ ((α_BGlass*I2)*(T-T0))\n",
    "  elseif tag == SSteel_tag\n",
    "      return C_SSteel ⊙ ((α_SSteel*I2)*(T-T0))\n",
    "  end\n",
    "end"
   ]
  },
  {
   "cell_type": "code",
   "execution_count": null,
   "id": "ff6c91de",
   "metadata": {},
   "outputs": [],
   "source": [
    "function σ_TempMod(ε_in,s_in,T_in,tag)\n",
    "    if tag == BGlass_tag\n",
    "        ch = ε_in-α_BGlass*(T_in-T0)*I2\n",
    "        if tr(ch) >= 0\n",
    "            return (s_in^2 + η)*σ_Temp(T_in,tag) \n",
    "        elseif tr(ch) < 0\n",
    "            return (s_in^2 + η) *I4_dev ⊙ σ_Temp(T_in,tag)   + I4_vol⊙ σ_Temp(T_in,tag) \n",
    "        end\n",
    "  elseif tag == SSteel_tag\n",
    "        ch = ε_in-α_SSteel*(T_in-T0)*I2\n",
    "        if tr(ch) >= 0\n",
    "            return (s_in^2 + η)*σ_Temp(T_in,tag) \n",
    "        elseif tr(ch) < 0\n",
    "            return (s_in^2 + η) *I4_dev ⊙ σ_Temp(T_in,tag)   + I4_vol⊙ σ_Temp(T_in,tag) \n",
    "        end\n",
    "    end\n",
    "end"
   ]
  },
  {
   "cell_type": "code",
   "execution_count": null,
   "id": "078abd20",
   "metadata": {},
   "outputs": [],
   "source": [
    "function σ_Tot(ε,tag)  \n",
    " if tag == BGlass_tag\n",
    "      return C_BGlass ⊙ ε \n",
    "  elseif tag == SSteel_tag\n",
    "      return C_SSteel ⊙ ε \n",
    "  end\n",
    "end"
   ]
  },
  {
   "cell_type": "code",
   "execution_count": null,
   "id": "89dae75b",
   "metadata": {},
   "outputs": [],
   "source": [
    "function σ_elasMod(ε, ε_in, s_in,T_in,tag)\n",
    "    if tag == BGlass_tag\n",
    "        ch = ε_in-α_BGlass*(T_in-T0)*I2\n",
    "        if tr(ch) >= 0\n",
    "            return ((s_in^2 + η)*σ_elas(ε,T_in,tag))\n",
    "        elseif tr(ch) < 0\n",
    "            return (((s_in^2 + η) *I4_dev ⊙ σ_elas(ε,T_in,tag)) + I4_vol⊙ σ_elas(ε,T_in,tag))\n",
    "        end\n",
    "  elseif tag == SSteel_tag\n",
    "        ch = ε_in-α_SSteel*(T_in-T0)*I2\n",
    "        if tr(ch) >= 0\n",
    "            return ((s_in^2 + η)*σ_elas(ε,T_in,tag))\n",
    "        elseif tr(ch) < 0\n",
    "            return (((s_in^2 + η) *I4_dev ⊙ σ_elas(ε,T_in,tag)) + I4_vol⊙ σ_elas(ε,T_in,tag))\n",
    "        end\n",
    "    end\n",
    "end"
   ]
  },
  {
   "cell_type": "code",
   "execution_count": null,
   "id": "5b9b9ccf",
   "metadata": {},
   "outputs": [],
   "source": [
    "function σ_TotMod(ε, ε_in, s_in,T_in,tag)\n",
    "    if tag == BGlass_tag\n",
    "        if tr(ε_in-α_BGlass*(T_in-T0)*I2) >= 0\n",
    "            return (s_in^2 + η)*σ_Tot(ε,tag) \n",
    "        elseif tr(ε_in-α_BGlass*(T_in-T0)*I2) < 0\n",
    "            return (s_in^2 + η) *I4_dev ⊙ σ_Tot(ε,tag)  + I4_vol⊙ σ_Tot(ε,tag) \n",
    "        end\n",
    "  elseif tag == SSteel_tag\n",
    "        if tr(ε_in-α_SSteel*(T_in-T0)*I2) >= 0\n",
    "            return (s_in^2 + η)*σ_Tot(ε,tag) \n",
    "        elseif tr(ε_in-α_SSteel*(T_in-T0)*I2) < 0\n",
    "            return (s_in^2 + η) *I4_dev ⊙ σ_Tot(ε,tag)  + I4_vol⊙ σ_Tot(ε,tag)\n",
    "        end\n",
    "    end\n",
    "end"
   ]
  },
  {
   "cell_type": "code",
   "execution_count": null,
   "id": "5ef4fb50",
   "metadata": {},
   "outputs": [],
   "source": [
    "function ψPos(ε_in,T_in,tag)\n",
    "    if tag == BGlass_tag\n",
    "        ch =  ε_in-α_BGlass*(T_in-T0)*I2\n",
    "        if tr(ch) >= 0\n",
    "            return 0.5*(ch ⊙ σ_elas(ε_in,T_in,tag))\n",
    "        elseif tr(ch) < 0\n",
    "            return 0.5*((I4_dev ⊙ σ_elas(ε_in,T_in,tag)) ⊙ (I4_dev ⊙ ch))\n",
    "        end\n",
    "  elseif tag == SSteel_tag\n",
    "        ch = ε_in-α_SSteel*(T_in-T0)*I2\n",
    "        if tr(ch) >= 0\n",
    "            return 0.5*(ch ⊙ σ_elas(ε_in,T_in,tag))\n",
    "        elseif tr(ch) < 0\n",
    "            return 0.5*((I4_dev ⊙ σ_elas(ε_in,T_in,tag)) ⊙ (I4_dev ⊙ ch))\n",
    "        end\n",
    "    end   \n",
    "end"
   ]
  },
  {
   "cell_type": "code",
   "execution_count": null,
   "id": "96e8ace4",
   "metadata": {},
   "outputs": [],
   "source": [
    "function new_EnergyState(ψPlusPrev_in,ψhPos_in)\n",
    "  ψPlus_in = ψhPos_in\n",
    "  if ψPlus_in >= ψPlusPrev_in\n",
    "    ψPlus_out = ψPlus_in\n",
    "  else\n",
    "    ψPlus_out = ψPlusPrev_in\n",
    "  end\n",
    "  true,ψPlus_out\n",
    "end"
   ]
  },
  {
   "cell_type": "code",
   "execution_count": null,
   "id": "b6b55641",
   "metadata": {},
   "outputs": [],
   "source": [
    "function project(q,model,dΩ,order)\n",
    "  reffe = ReferenceFE(lagrangian,Float64,order)\n",
    "  V = FESpace(model,reffe,conformity=:L2)\n",
    "  a(u,v) = ∫( u*v )*dΩ\n",
    "  l(v) = ∫( v*q )*dΩ\n",
    "  op = AffineFEOperator(a,l,V,V)\n",
    "  qh = solve(op)\n",
    "  qh\n",
    "end"
   ]
  },
  {
   "cell_type": "code",
   "execution_count": null,
   "id": "d0ba076e",
   "metadata": {},
   "outputs": [],
   "source": [
    "order = 1\n",
    "degree = 2*order"
   ]
  },
  {
   "cell_type": "code",
   "execution_count": null,
   "id": "6a150a6d",
   "metadata": {},
   "outputs": [],
   "source": [
    "Ω = Triangulation(model)\n",
    "dΩ = Measure(Ω,degree)\n",
    "sId = CellState(1.0,dΩ)\n",
    "shId = project(sId,model,dΩ,order)"
   ]
  },
  {
   "cell_type": "code",
   "execution_count": null,
   "id": "270b9566",
   "metadata": {},
   "outputs": [],
   "source": [
    "reffe_PF = ReferenceFE(lagrangian,Float64,order)\n",
    "V0_PF = TestFESpace(model,reffe_PF;\n",
    "  conformity=:H1)\n",
    "U_PF = TrialFESpace(V0_PF)"
   ]
  },
  {
   "cell_type": "code",
   "execution_count": null,
   "id": "33835d19",
   "metadata": {},
   "outputs": [],
   "source": [
    "reffe_Disp = ReferenceFE(lagrangian,VectorValue{2,Float64},order)\n",
    "        V0_Disp = TestFESpace(model,reffe_Disp;\n",
    "          conformity=:H1,\n",
    "          dirichlet_tags=[\"Boundary\"],\n",
    "          dirichlet_masks=[(false,false)])\n",
    "uh = zero(V0_Disp)"
   ]
  },
  {
   "cell_type": "code",
   "execution_count": null,
   "id": "e383788a",
   "metadata": {},
   "outputs": [],
   "source": [
    "function  stepPhaseField(uh_in,ψPlusPrev_in)\n",
    "        \n",
    "        a_PF(s,ϕ) = ∫( Gc∘(shId,mat_tags)*lsp*∇(ϕ)⋅ ∇(s) + 2*ψPlusPrev_in*s*ϕ  + (Gc∘(shId,mat_tags)/lsp)*s*ϕ )*dΩ\n",
    "        b_PF(ϕ) = ∫( (Gc∘(shId,mat_tags)/lsp)*ϕ )*dΩ\n",
    "        op_PF = AffineFEOperator(a_PF,b_PF,U_PF,V0_PF)\n",
    "        sh_out = solve(op_PF)           \n",
    "    \n",
    "    return sh_out\n",
    "    \n",
    "end"
   ]
  },
  {
   "cell_type": "code",
   "execution_count": null,
   "id": "7d0cc3f1",
   "metadata": {},
   "outputs": [],
   "source": [
    " function   stepDisp(uh_in,sh_in,T_in,tag)\n",
    "        uApp1(x) = VectorValue(0.0,0.0)\n",
    "        U_Disp = TrialFESpace(V0_Disp,[uApp1])\n",
    "        a(u,v) = ∫( (ε(v) ⊙ (σ_TotMod∘(ε(u),ε(uh_in),sh_in,T_in,tag))))*dΩ\n",
    "        b(v) = ∫( (ε(v) ⊙ (σ_TempMod∘(ε(uh_in),sh_in,T_in,tag))))*dΩ\n",
    "        op = AffineFEOperator(a,b,U_Disp,V0_Disp)         \n",
    "        uh = solve(op)                \n",
    "        uh_out =  uh\n",
    "    \n",
    "    return uh_out\n",
    "end"
   ]
  },
  {
   "cell_type": "code",
   "execution_count": null,
   "id": "2d6ad9da",
   "metadata": {},
   "outputs": [],
   "source": [
    "PseudoVelU = 0.0\n",
    "delt = 0.5\n",
    "t = 0\n",
    "tMax = 500.0\n",
    "delT = delt\n",
    "TAppMax = 0.0\n",
    "innerMax = 10\n",
    "count = 0\n",
    "tol = 1e-8\n",
    "\n",
    "Load = Float64[]\n",
    "Displacement = Float64[]\n",
    "\n",
    "push!(Load, 0.0)\n",
    "push!(Displacement, 0.0)\n",
    "\n",
    "ψPlusPrev = CellState(0.0,dΩ) \n",
    "sPrev = CellState(1.0,dΩ)\n",
    "sh = project(sPrev,model,dΩ,order)\n",
    "while t .<= tMax\n",
    "    ThPrev = CellState(T0 -count*delT,dΩ)\n",
    "    Th = project(ThPrev,model,dΩ,order)\n",
    "    \n",
    "    count = count .+ 1\n",
    "    t = t + delt\n",
    "    vApp = PseudoVelU*t\n",
    "    TApp = T0 - count*delT\n",
    "    \n",
    "   \n",
    "    \n",
    "    print(\"\\n Entering time step$count :\", float(t))\n",
    "    \n",
    "   for inner = 1:innerMax   \n",
    "        \n",
    "        ψhPlusPrev = project(ψPlusPrev,model,dΩ,order)\n",
    "     RelErr = abs(sum(∫( Gc∘(shId,mat_tags)*lsp*∇(sh)⋅ ∇(sh) + 2*ψhPlusPrev*sh*sh  + (Gc∘(shId,mat_tags)/lsp)*sh*sh)*dΩ - ∫( (Gc∘(shId,mat_tags)/lsp)*sh)*dΩ))/abs(sum(∫( (Gc∘(shId,mat_tags)/lsp)*sh)*dΩ))\n",
    "        print(\"\\n Relative error = \",float(RelErr))\n",
    "        sh = stepPhaseField(uh,ψhPlusPrev) \n",
    "        uh = stepDisp(uh,sh,Th,mat_tags)\n",
    "            ψhPos_in = ψPos∘(ε(uh),Th,mat_tags)      \n",
    "        \n",
    "        update_state!(new_EnergyState,ψPlusPrev,ψhPos_in)\n",
    "  \n",
    "       if RelErr < tol\n",
    "          break \n",
    "       end      \n",
    "    end\n",
    "     \n",
    "    if mod(count,10) == 0\n",
    "         writevtk(Ω,\"results_PhaseFieldThermoElastic$count\",cellfields=\n",
    "        [\"s\"=>sh])\n",
    "    end\n",
    "    end"
   ]
  },
  {
   "cell_type": "code",
   "execution_count": null,
   "id": "ddd1aeec",
   "metadata": {},
   "outputs": [],
   "source": [
    "     writevtk(Ω,\"results_PhaseFieldThermoElastic$count\",cellfields=\n",
    "        [\"s\"=>sh])"
   ]
  }
 ],
 "metadata": {
  "@webio": {
   "lastCommId": null,
   "lastKernelId": null
  },
  "kernelspec": {
   "display_name": "Julia 1.6.2",
   "language": "julia",
   "name": "julia-1.6"
  },
  "language_info": {
   "file_extension": ".jl",
   "mimetype": "application/julia",
   "name": "julia",
   "version": "1.6.2"
  }
 },
 "nbformat": 4,
 "nbformat_minor": 5
}
