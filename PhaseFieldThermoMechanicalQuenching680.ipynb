{
 "cells": [
  {
   "cell_type": "code",
   "execution_count": null,
   "id": "684e8eca",
   "metadata": {},
   "outputs": [],
   "source": [
    "using Gmsh: gmsh\n",
    "using GridapGmsh\n",
    "using Gridap\n",
    "using Gridap.Geometry\n",
    "using Gridap.TensorValues\n",
    "using Plots"
   ]
  },
  {
   "cell_type": "code",
   "execution_count": null,
   "id": "18a51ac0",
   "metadata": {},
   "outputs": [],
   "source": [
    "const T0 = 680\n",
    "const TAppMax = 300\n",
    "const TAppMin = 300\n",
    "const delt = 1e-8\n",
    "const tMax = 1e-6\n",
    "const uMax = 1.2e-6\n",
    "AppVel = uMax/tMax\n",
    "uMin = 0\n",
    "uTran = 1*uMax"
   ]
  },
  {
   "cell_type": "code",
   "execution_count": null,
   "id": "8d40a996",
   "metadata": {},
   "outputs": [],
   "source": [
    "function Tfun(u)  \n",
    "    if u <= uTran\n",
    "      return ((TAppMax - TAppMin)/uTran)*u + TAppMin\n",
    "    else\n",
    "     return  TAppMax\n",
    "    end\n",
    "end \n",
    "plot(Tfun,0,uMax)"
   ]
  },
  {
   "cell_type": "code",
   "execution_count": null,
   "id": "coordinated-north",
   "metadata": {},
   "outputs": [],
   "source": [
    "uAppVec = range(0,uMax,length = Int64(floor(tMax/delt)))"
   ]
  },
  {
   "cell_type": "code",
   "execution_count": null,
   "id": "4d5e3888",
   "metadata": {},
   "outputs": [],
   "source": [
    "TAppVec = Tfun.(uAppVec)"
   ]
  },
  {
   "cell_type": "code",
   "execution_count": null,
   "id": "ecdc7825",
   "metadata": {},
   "outputs": [],
   "source": [
    "I2 = SymTensorValue{2,Float64}(1.0,0.0,1.0)\n",
    "I4 = I2⊗I2\n",
    "I4_sym = one(SymFourthOrderTensorValue{2,Float64})\n",
    "I4_vol = (1.0/2)*I4\n",
    "I4_dev = I4_sym - I4_vol"
   ]
  },
  {
   "cell_type": "code",
   "execution_count": null,
   "id": "f9df85be",
   "metadata": {},
   "outputs": [],
   "source": [
    "const L = 25e-3\n",
    "const B = 4.9e-3\n",
    "const lsp = (2*L)/200\n",
    "const hf = lsp/5\n",
    "const h = lsp/2\n",
    "\n",
    "gmsh.initialize()\n",
    "gmsh.option.setNumber(\"General.Terminal\", 1)\n",
    "gmsh.model.geo.addPoint(0.0, B, 0.0, h, 1)  \n",
    "gmsh.model.geo.addPoint(0.0, 0.0, 0.0, h, 2) \n",
    "gmsh.model.geo.addPoint(L, 0.0, 0.0,h, 3) \n",
    "gmsh.model.geo.addPoint(L, 0.3*B, 0.0, h, 4)\n",
    "gmsh.model.geo.addPoint(L, B, 0.0, h, 5)\n",
    "gmsh.model.geo.addPoint(0.3*L, B, 0.0, h, 6)\n",
    "gmsh.model.geo.addPoint(0.3*L, 0.3*B, 0.0, h, 7)\n",
    "\n",
    "gmsh.model.geo.addLine(1, 2, 1)\n",
    "gmsh.model.geo.addLine(2, 3, 2)\n",
    "gmsh.model.geo.addLine(3, 4, 3)\n",
    "gmsh.model.geo.addLine(4, 5, 4)\n",
    "gmsh.model.geo.addLine(5, 6, 5)\n",
    "gmsh.model.geo.addLine(6, 1, 6)\n",
    "gmsh.model.geo.addLine(6, 7, 7)\n",
    "gmsh.model.geo.addLine(7, 4, 8)\n",
    "\n",
    "gmsh.model.geo.addCurveLoop([1,2,3,4,5,6],1)\n",
    "\n",
    "\n",
    "gmsh.model.geo.addCurveLoop([7,8,4,5],11)\n",
    "gmsh.model.geo.addPlaneSurface([11], 11)\n",
    "gmsh.model.geo.addPlaneSurface([1,-11], 1)\n",
    "\n",
    "gmsh.model.addPhysicalGroup(2, [1,11],1)\n",
    "gmsh.model.addPhysicalGroup(1, [3,4],1)\n",
    "gmsh.model.addPhysicalGroup(1, [6,5],2)\n",
    "gmsh.model.addPhysicalGroup(1, [1,2],3)\n",
    "gmsh.model.setPhysicalName(2, 1, \"Domain\")\n",
    "gmsh.model.setPhysicalName(1, 1, \"VerticalSupport\")\n",
    "gmsh.model.setPhysicalName(1, 2, \"HorizontalSupport\")\n",
    "gmsh.model.setPhysicalName(1, 3, \"TempBoundary\")\n",
    "\n",
    "gmsh.model.mesh.field.add(\"Distance\", 1)\n",
    "gmsh.model.mesh.field.setNumbers(1, \"CurvesList\", [6,1,2,3,8,7])\n",
    "\n",
    "gmsh.model.mesh.field.add(\"Threshold\", 2)\n",
    "gmsh.model.mesh.field.setNumber(2, \"InField\", 1)\n",
    "gmsh.model.mesh.field.setNumber(2, \"SizeMin\", hf)\n",
    "gmsh.model.mesh.field.setNumber(2, \"SizeMax\", h)\n",
    "gmsh.model.mesh.field.setNumber(2, \"DistMin\", 0.2*B)\n",
    "gmsh.model.mesh.field.setNumber(2, \"DistMax\", 0.4*B)\n",
    "\n",
    "gmsh.model.mesh.field.setAsBackgroundMesh(2)\n",
    "\n",
    "gmsh.model.geo.synchronize()\n",
    "gmsh.model.mesh.generate(2)\n",
    "gmsh.write(\"Quenching680.msh\")\n",
    "gmsh.finalize()"
   ]
  },
  {
   "cell_type": "code",
   "execution_count": null,
   "id": "29792b15",
   "metadata": {},
   "outputs": [],
   "source": [
    "model = GmshDiscreteModel(\"Quenching680.msh\")\n",
    "writevtk(model,\"Quenching680\")"
   ]
  },
  {
   "cell_type": "code",
   "execution_count": null,
   "id": "5a21dcc4",
   "metadata": {},
   "outputs": [],
   "source": [
    "labels = get_face_labeling(model)\n",
    "dimension = 2\n",
    "mat_tags = get_face_tag(labels,dimension)"
   ]
  },
  {
   "cell_type": "code",
   "execution_count": null,
   "id": "4532d18e",
   "metadata": {},
   "outputs": [],
   "source": [
    "const Mat_tag = get_tag_from_name(labels,\"Domain\")"
   ]
  },
  {
   "cell_type": "code",
   "execution_count": null,
   "id": "5030f592",
   "metadata": {},
   "outputs": [],
   "source": [
    "const E_mat = 340e9\n",
    "const ν_mat = 0.22"
   ]
  },
  {
   "cell_type": "markdown",
   "id": "4d19c209",
   "metadata": {},
   "source": [
    "#### Input fracture parameters"
   ]
  },
  {
   "cell_type": "code",
   "execution_count": null,
   "id": "e7cc4577",
   "metadata": {},
   "outputs": [],
   "source": [
    "const Gc = 42.47\n",
    "const η = 1e-8"
   ]
  },
  {
   "cell_type": "markdown",
   "id": "9f8f1d16",
   "metadata": {},
   "source": [
    "#### Input Thermal parameter "
   ]
  },
  {
   "cell_type": "code",
   "execution_count": null,
   "id": "48b2074b",
   "metadata": {},
   "outputs": [],
   "source": [
    "const α = 8.0e-6\n",
    "const c = 0.775\n",
    "const κ_mat = 300.0\n",
    "const ρ = 2450.0"
   ]
  },
  {
   "cell_type": "markdown",
   "id": "6d78b87a",
   "metadata": {},
   "source": [
    "## Constitutive Matrices"
   ]
  },
  {
   "cell_type": "markdown",
   "id": "c1785888",
   "metadata": {},
   "source": [
    "### Elastic stiffness tensor"
   ]
  },
  {
   "cell_type": "code",
   "execution_count": null,
   "id": "6007f42c",
   "metadata": {},
   "outputs": [],
   "source": [
    "function ElasFourthOrderConstTensor(E ,ν , PlanarState)\n",
    "# 1 for Plane Stress and 2 Plane Strain Condition\n",
    "if PlanarState == 1\n",
    "C1111 = E /(1 -ν *ν )\n",
    "C1122 = (ν *E ) /(1 -ν *ν )\n",
    "C1112 = 0.0\n",
    "C2222 = E /(1 -ν *ν )\n",
    "C2212 = 0.0\n",
    "C1212 = E /(2*(1+ν ) )\n",
    "elseif PlanarState == 2\n",
    "C1111 = (E *(1 -ν *ν ) ) /((1+ν ) *(1 -ν -2*ν *ν ) )\n",
    "C1122 = (ν *E ) /(1 -ν -2*ν *ν )\n",
    "C1112 = 0.0\n",
    "C2222 = (E *(1 -ν ) ) /(1 -ν -2*ν *ν )\n",
    "C2212 = 0.0\n",
    "C1212 = E /(2*(1+ν ) )\n",
    "end\n",
    "C_ten = SymFourthOrderTensorValue(C1111 , C1112 , C1122 , C1112 ,\n",
    "C1212 , C2212 , C1122 , C2212 , C2222)\n",
    "return C_ten\n",
    "end"
   ]
  },
  {
   "cell_type": "code",
   "execution_count": null,
   "id": "f34c3426",
   "metadata": {},
   "outputs": [],
   "source": [
    "const C_mat = ElasFourthOrderConstTensor(E_mat,ν_mat,1)"
   ]
  },
  {
   "cell_type": "markdown",
   "id": "355c7de8",
   "metadata": {},
   "source": [
    "## Computation of temperature field"
   ]
  },
  {
   "cell_type": "code",
   "execution_count": null,
   "id": "504f6cea",
   "metadata": {},
   "outputs": [],
   "source": [
    "κGradTemp(∇,s_in) = κ_mat*∇"
   ]
  },
  {
   "cell_type": "code",
   "execution_count": null,
   "id": "510f1a2f",
   "metadata": {},
   "outputs": [],
   "source": [
    "σ_elas(εElas) = C_mat ⊙ εElas"
   ]
  },
  {
   "cell_type": "code",
   "execution_count": null,
   "id": "3dc372ca",
   "metadata": {},
   "outputs": [],
   "source": [
    "function σ_elasMod(ε, ε_in, s_in,T,T_in)\n",
    "    \n",
    "   εElas_in = ε_in - α*(T_in-T0)*I2\n",
    "   εElas = ε - α*(T-T0)*I2\n",
    "    \n",
    " if tr(εElas_in)  >= 0\n",
    "      σ = (s_in^2 + η)*σ_elas(εElas)\n",
    "  elseif tr(εElas_in) < 0\n",
    "      σ = (s_in^2 + η) *I4_dev ⊙ σ_elas(εElas) + I4_vol⊙ σ_elas(εElas) \n",
    "  end  \n",
    "    return σ\n",
    "end"
   ]
  },
  {
   "cell_type": "code",
   "execution_count": null,
   "id": "concrete-rings",
   "metadata": {},
   "outputs": [],
   "source": [
    "function σ_totMod(ε, ε_in,s_in,T_in)\n",
    "    \n",
    "   εElas_in = ε_in - α*(T_in-T0)*I2\n",
    "   εElasTot = ε \n",
    "    \n",
    " if tr(εElas_in)  >= 0\n",
    "      σU = (s_in^2 + η)*σ_elas(εElasTot)\n",
    "  elseif tr(εElas_in) < 0\n",
    "      σU = (s_in^2 + η) *I4_dev ⊙ σ_elas(εElasTot) + I4_vol⊙ σ_elas(εElasTot) \n",
    "  end  \n",
    "    return σU\n",
    "end"
   ]
  },
  {
   "cell_type": "code",
   "execution_count": null,
   "id": "d36c3098",
   "metadata": {},
   "outputs": [],
   "source": [
    "function σ_totthMod(ε_in,s_in,T,T_in)\n",
    "    \n",
    "   εElas_in = ε_in - α*(T_in-T0)*I2\n",
    "   εElasTotth = -α*T*I2\n",
    "    \n",
    " if tr(εElas_in)  >= 0\n",
    "      σT = (s_in^2 + η)*σ_elas(εElasTotth)\n",
    "  elseif tr(εElas_in) < 0\n",
    "      σT = (s_in^2 + η) *I4_dev ⊙ σ_elas(εElasTotth) + I4_vol⊙ σ_elas(εElasTotth) \n",
    "  end  \n",
    "    return σT\n",
    "end"
   ]
  },
  {
   "cell_type": "code",
   "execution_count": null,
   "id": "seasonal-bridal",
   "metadata": {},
   "outputs": [],
   "source": [
    "function σ_thermMod(ε_in,s_in,T_in)\n",
    "    \n",
    "   εElas_in = ε_in - α*(T_in-T0)*I2\n",
    "   εElasTher = α*(T0)*I2\n",
    "    \n",
    " if tr(εElas_in)  >= 0\n",
    "      σF = (s_in^2 + η)*σ_elas(εElasTher)\n",
    "  elseif tr(εElas_in) < 0\n",
    "      σF = (s_in^2 + η)*I4_dev ⊙ σ_elas(εElasTher) + I4_vol⊙ σ_elas(εElasTher) \n",
    "  end  \n",
    "    return σF\n",
    "end"
   ]
  },
  {
   "cell_type": "code",
   "execution_count": null,
   "id": "4a7f6cec",
   "metadata": {},
   "outputs": [],
   "source": [
    "function ψPos(ε_in,T_in)\n",
    "    εElas_in = ε_in - α*(T_in-T0)*I2\n",
    " if tr(εElas_in)  >= 0\n",
    "      ψPlus = 0.5*((εElas_in) ⊙ σ_elas(εElas_in))             \n",
    "  elseif tr(εElas_in)  < 0\n",
    "      ψPlus = 0.5*((I4_dev ⊙ σ_elas(εElas_in)) ⊙ (I4_dev ⊙ (εElas_in))) \n",
    "    end\n",
    "    return ψPlus\n",
    "end"
   ]
  },
  {
   "cell_type": "code",
   "execution_count": null,
   "id": "96e8ace4",
   "metadata": {},
   "outputs": [],
   "source": [
    "function new_EnergyState(ψPlusPrev_in,ψhPos_in)\n",
    "  ψPlus_in = ψhPos_in\n",
    "  if ψPlus_in >= ψPlusPrev_in\n",
    "    ψPlus_out = ψPlus_in\n",
    "  else\n",
    "    ψPlus_out = ψPlusPrev_in\n",
    "  end\n",
    "  true,ψPlus_out\n",
    "end"
   ]
  },
  {
   "cell_type": "code",
   "execution_count": null,
   "id": "b6b55641",
   "metadata": {},
   "outputs": [],
   "source": [
    "function project(q,model,dΩ,order)\n",
    "  reffe = ReferenceFE(lagrangian,Float64,order)\n",
    "  V = FESpace(model,reffe,conformity=:L2)\n",
    "  a(u,v) = ∫( u*v )*dΩ\n",
    "  l(v) = ∫( v*q )*dΩ\n",
    "  op = AffineFEOperator(a,l,V,V)\n",
    "  qh = Gridap.solve(op)\n",
    "  qh\n",
    "end"
   ]
  },
  {
   "cell_type": "code",
   "execution_count": null,
   "id": "d0ba076e",
   "metadata": {},
   "outputs": [],
   "source": [
    "order = 1\n",
    "degree = 2*order"
   ]
  },
  {
   "cell_type": "code",
   "execution_count": null,
   "id": "6a150a6d",
   "metadata": {},
   "outputs": [],
   "source": [
    "Ω = Triangulation(model)\n",
    "dΩ = Measure(Ω,degree)"
   ]
  },
  {
   "cell_type": "code",
   "execution_count": null,
   "id": "270b9566",
   "metadata": {},
   "outputs": [],
   "source": [
    "reffe_PF = ReferenceFE(lagrangian,Float64,order)\n",
    "V0_PF = TestFESpace(model,reffe_PF;\n",
    "  conformity=:H1)\n",
    "U_PF = TrialFESpace(V0_PF)"
   ]
  },
  {
   "cell_type": "code",
   "execution_count": null,
   "id": "33835d19",
   "metadata": {},
   "outputs": [],
   "source": [
    "reffe_Disp = ReferenceFE(lagrangian,VectorValue{2,Float64},order)\n",
    "        V0_Disp = TestFESpace(model,reffe_Disp;\n",
    "          conformity=:H1,\n",
    "          dirichlet_tags=[\"VerticalSupport\",\"HorizontalSupport\"],\n",
    "          dirichlet_masks=[(true,false),(false,true)])\n",
    "uh = zero(V0_Disp)"
   ]
  },
  {
   "cell_type": "code",
   "execution_count": null,
   "id": "7a7da52b",
   "metadata": {},
   "outputs": [],
   "source": [
    "reffe_Temp = ReferenceFE(lagrangian,Float64,order)\n",
    "V0_Temp = TestFESpace(model,reffe_Temp;\n",
    "  conformity=:H1,\n",
    "  dirichlet_tags=[\"TempBoundary\"])"
   ]
  },
  {
   "cell_type": "code",
   "execution_count": null,
   "id": "85c9dd7a",
   "metadata": {},
   "outputs": [],
   "source": [
    "V0 = MultiFieldFESpace([V0_Disp,V0_Temp])"
   ]
  },
  {
   "cell_type": "code",
   "execution_count": null,
   "id": "e383788a",
   "metadata": {},
   "outputs": [],
   "source": [
    "function  stepPhaseField(uh_in,ψPlusPrev_in)\n",
    "        \n",
    "        a_PF(s,ϕ) = ∫( Gc*lsp*∇(ϕ)⋅ ∇(s) + 2*ψPlusPrev_in*s*ϕ  + (Gc/lsp)*s*ϕ )*dΩ\n",
    "        b_PF(ϕ) = ∫( (Gc/lsp)*ϕ )*dΩ\n",
    "        op_PF = AffineFEOperator(a_PF,b_PF,U_PF,V0_PF)\n",
    "        sh_out = Gridap.solve(op_PF)           \n",
    "    \n",
    "    return sh_out\n",
    "    \n",
    "end"
   ]
  },
  {
   "cell_type": "code",
   "execution_count": null,
   "id": "34c78ffb",
   "metadata": {},
   "outputs": [],
   "source": [
    " function   stepDispTemp(uh_in,sh_in,T_in,vApp,TApp,delt)\n",
    "        uApp1(x) = VectorValue(0.0,0.0)\n",
    "        uApp2(x) = VectorValue(0.0,0.0)\n",
    "        U_Disp = TrialFESpace(V0_Disp,[uApp1,uApp2])\n",
    "        Tapp1(x) = TApp\n",
    "        Tg = TrialFESpace(V0_Temp,[Tapp1])\n",
    "        U = MultiFieldFESpace([U_Disp,Tg])\n",
    "        a((u,T),(v,w)) = ∫( (ε(v) ⊙ (σ_totMod∘(ε(u),ε(uh_in),sh_in,T_in) + σ_totthMod∘(ε(uh_in),sh_in,T,T_in))) + ∇(w)⋅(κGradTemp∘ (∇(T),sh_in)) + ((ρ*c*T*w)/delt))*dΩ\n",
    "        b((v,w)) = ∫(((ρ*c*T_in*w)/delt) - (ε(v) ⊙ (σ_thermMod∘(ε(uh_in),sh_in,T_in))))*dΩ\n",
    "        op = AffineFEOperator(a,b,U,V0)\n",
    "        uhTh = Gridap.solve(op)                \n",
    "        uh_out,Th_out =  uhTh\n",
    "    \n",
    "    return uh_out,Th_out\n",
    "end"
   ]
  },
  {
   "cell_type": "code",
   "execution_count": null,
   "id": "affected-voice",
   "metadata": {},
   "outputs": [],
   "source": [
    "t = 0.0\n",
    "innerMax = 10\n",
    "count = 0\n",
    "tol = 1e-8\n",
    "\n",
    "Load = Float64[]\n",
    "Displacement = Float64[]\n",
    "\n",
    "push!(Load, 0.0)\n",
    "push!(Displacement, 0.0)\n",
    "\n",
    "ψPlusPrev = CellState(0.0,dΩ) \n",
    "sPrev = CellState(1.0,dΩ)\n",
    "sh = project(sPrev,model,dΩ,order)\n",
    "ThPrev = CellState(T0,dΩ)\n",
    "Th = project(ThPrev,model,dΩ,order)\n",
    "while t .< tMax \n",
    "    count = count .+ 1      \n",
    "    t = t + delt\n",
    "    vApp = AppVel*t    \n",
    "    TApp = TAppVec[count]\n",
    "\n",
    "    print(\"\\n Entering time step$count :\", float(t))\n",
    "    \n",
    "   for inner = 1:innerMax   \n",
    "        \n",
    "        ψhPlusPrev = project(ψPlusPrev,model,dΩ,order)\n",
    "        RelErr = abs(sum(∫( Gc*lsp*∇(sh)⋅ ∇(sh) + 2*ψhPlusPrev*sh*sh  + (Gc/lsp)*sh*sh)*dΩ - ∫( (Gc/lsp)*sh)*dΩ))/abs(sum(∫( (Gc/lsp)*sh)*dΩ))\n",
    "        print(\"\\n Relative error$count = \",float(RelErr))\n",
    "        sh = stepPhaseField(uh,ψhPlusPrev) \n",
    "        uh,Th = stepDispTemp(uh,sh,Th,vApp,TApp,delt)\n",
    "\n",
    "        ψhPos_in = ψPos∘(ε(uh),Th)   \n",
    "        \n",
    "        update_state!(new_EnergyState,ψPlusPrev,ψhPos_in)\n",
    "  \n",
    "        if RelErr < tol\n",
    "            break \n",
    "        end      \n",
    "    end\n",
    "               \n",
    "    if mod(count,5) == 0\n",
    "         writevtk(Ω,\"results_PhaseFieldThermoElastic$count\",cellfields=\n",
    "        [\"uh\"=>uh,\"s\"=>sh ,\"epsi\"=>ε(uh),\"T\"=>Th])\n",
    "    end\n",
    "end"
   ]
  },
  {
   "cell_type": "code",
   "execution_count": null,
   "id": "7e651713",
   "metadata": {},
   "outputs": [],
   "source": [
    "writevtk(Ω,\"results_PhaseFieldThermoElastic$count\",cellfields=\n",
    "        [\"uh\"=>uh,\"s\"=>sh ,\"epsi\"=>ε(uh),\"T\"=>Th])"
   ]
  }
 ],
 "metadata": {
  "@webio": {
   "lastCommId": null,
   "lastKernelId": null
  },
  "kernelspec": {
   "display_name": "Julia 1.6.2",
   "language": "julia",
   "name": "julia-1.6"
  },
  "language_info": {
   "file_extension": ".jl",
   "mimetype": "application/julia",
   "name": "julia",
   "version": "1.6.2"
  }
 },
 "nbformat": 4,
 "nbformat_minor": 5
}
