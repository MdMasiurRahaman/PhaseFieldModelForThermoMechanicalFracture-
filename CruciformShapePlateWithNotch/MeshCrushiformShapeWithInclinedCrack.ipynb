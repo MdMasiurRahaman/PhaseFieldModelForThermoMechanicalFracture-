{
 "cells": [
  {
   "cell_type": "code",
   "execution_count": 1,
   "id": "4eb07f7c",
   "metadata": {},
   "outputs": [
    {
     "name": "stdout",
     "output_type": "stream",
     "text": [
      "Info    : Meshing 1D...\n",
      "Info    : Meshing curve 1 (Line)\n",
      "Info    : Meshing curve 2 (Line)\n",
      "Info    : Meshing curve 3 (Line)\n",
      "Info    : Meshing curve 4 (Line)\n",
      "Info    : Meshing curve 5 (Line)\n",
      "Info    : Meshing curve 6 (Line)\n",
      "Info    : Meshing curve 7 (Line)\n",
      "Info    : Meshing curve 8 (Line)\n",
      "Info    : Meshing curve 9 (Line)\n",
      "Info    : Meshing curve 10 (Line)\n",
      "Info    : Meshing curve 11 (Line)\n",
      "Info    : Meshing curve 12 (Line)\n",
      "Info    : Meshing curve 13 (Line)\n",
      "Info    : Meshing curve 14 (Line)\n",
      "Info    : Meshing curve 15 (Line)\n",
      "Info    : Meshing curve 151 (Line)\n",
      "Info    : Done meshing 1D (0.028043 s)\n",
      "Info    : Meshing 2D...\n",
      "Info    : Meshing surface 1 (Plane, Delaunay)\n",
      "Info    : Done meshing 2D (4.1432 s)\n",
      "Info    : 64183 vertices 128020 elements\n",
      "Info    : Writing 'CrushiformShapeWithInclinedCrack.msh'...\n",
      "Info    : Done writing 'CrushiformShapeWithInclinedCrack.msh'\n"
     ]
    }
   ],
   "source": [
    "using Gmsh: gmsh\n",
    "\n",
    "const L = 0.05\n",
    "const lsp = L/100\n",
    "const eps = L/100\n",
    "const Lc = 0.2*L \n",
    "const beta = 3*π/4\n",
    "const Lcx = -Lc*cos(beta)\n",
    "const Lcy = Lc*sin(beta)\n",
    "const hfc = lsp/4\n",
    "const hf = lsp/4\n",
    "const h = L/8\n",
    "gmsh.initialize()\n",
    "gmsh.option.setNumber(\"General.Terminal\", 1)\n",
    "gmsh.model.geo.addPoint(0.0, 0.0, 0.0, h, 1)  \n",
    "gmsh.model.geo.addPoint(L, 0.0, 0.0, h, 2) \n",
    "gmsh.model.geo.addPoint(L, L-eps, 0.0,h, 3) \n",
    "gmsh.model.geo.addPoint(L-Lcx, L-eps+Lcy, 0.0, hfc, 4)\n",
    "gmsh.model.geo.addPoint(L-Lcx+eps, L+Lcy,0.0, hfc, 5)\n",
    "gmsh.model.geo.addPoint(L+eps, L, 0.0,h, 6)\n",
    "gmsh.model.geo.addPoint(2*L, L,0.0, h, 7)\n",
    "gmsh.model.geo.addPoint(2*L, 2*L, 0.0, h, 8)\n",
    "gmsh.model.geo.addPoint(L, 2*L, 0.0, h, 9)\n",
    "gmsh.model.geo.addPoint(L, 3*L, 0.0, h, 10)\n",
    "gmsh.model.geo.addPoint(0, 3*L, 0.0, h, 11)\n",
    "gmsh.model.geo.addPoint(0, 2*L, 0.0, hf, 12)\n",
    "gmsh.model.geo.addPoint(-L, 2*L, 0.0, h, 13)\n",
    "gmsh.model.geo.addPoint(-L, L, 0.0, h, 14)\n",
    "gmsh.model.geo.addPoint(0, L, 0.0, h, 15)\n",
    "gmsh.model.geo.addPoint(0, 1.4*L, 0.0, h, 16)\n",
    "\n",
    "gmsh.model.geo.addLine(1, 2, 1)\n",
    "gmsh.model.geo.addLine(2, 3, 2)\n",
    "gmsh.model.geo.addLine(3, 4, 3)\n",
    "gmsh.model.geo.addLine(4, 5, 4)\n",
    "gmsh.model.geo.addLine(5, 6, 5)\n",
    "gmsh.model.geo.addLine(6, 7, 6)\n",
    "gmsh.model.geo.addLine(7, 8, 7)\n",
    "gmsh.model.geo.addLine(8, 9, 8)\n",
    "gmsh.model.geo.addLine(9, 10, 9)\n",
    "gmsh.model.geo.addLine(10, 11, 10)\n",
    "gmsh.model.geo.addLine(11, 12, 11)\n",
    "gmsh.model.geo.addLine(12, 13, 12)\n",
    "gmsh.model.geo.addLine(13, 14, 13)\n",
    "gmsh.model.geo.addLine(14, 15, 14)\n",
    "gmsh.model.geo.addLine(15, 1, 15)\n",
    "gmsh.model.geo.addLine(4, 16, 151)\n",
    "\n",
    "gmsh.model.geo.addCurveLoop([12,13,14,15,1,2,3,4,5,6,7,8,9,10,11],1) \n",
    "gmsh.model.geo.addPlaneSurface([1], 1)\n",
    "gmsh.model.addPhysicalGroup(2, [1],1)\n",
    "gmsh.model.addPhysicalGroup(1, [1],1)\n",
    "gmsh.model.addPhysicalGroup(1, [10],2)\n",
    "gmsh.model.addPhysicalGroup(1, [13],3)\n",
    "gmsh.model.addPhysicalGroup(1, [7],4)\n",
    "gmsh.model.setPhysicalName(2, 1, \"Domain\")\n",
    "gmsh.model.setPhysicalName(1, 1, \"BottomEdge\")\n",
    "gmsh.model.setPhysicalName(1, 2, \"TopEdge\")\n",
    "gmsh.model.setPhysicalName(1, 3, \"LeftEdge\")\n",
    "gmsh.model.setPhysicalName(1, 4, \"RightEdge\")\n",
    "\n",
    "gmsh.model.mesh.field.add(\"Distance\", 1)\n",
    "gmsh.model.mesh.field.setNumbers(1, \"EdgesList\", [151])\n",
    "\n",
    "gmsh.model.mesh.field.add(\"Threshold\", 2)\n",
    "gmsh.model.mesh.field.setNumber(2, \"IField\", 1)\n",
    "gmsh.model.mesh.field.setNumber(2, \"LcMin\", hf)\n",
    "gmsh.model.mesh.field.setNumber(2, \"LcMax\", h)\n",
    "gmsh.model.mesh.field.setNumber(2, \"DistMin\", 1.0*Lcy)\n",
    "gmsh.model.mesh.field.setNumber(2, \"DistMax\", 1.0*Lc)\n",
    "\n",
    "gmsh.model.mesh.field.setAsBackgroundMesh(2)\n",
    "\n",
    "gmsh.model.geo.synchronize()\n",
    "gmsh.model.mesh.generate(2)\n",
    "gmsh.write(\"CrushiformShapeWithInclinedCrack.msh\")\n",
    "gmsh.finalize()"
   ]
  },
  {
   "cell_type": "code",
   "execution_count": 2,
   "id": "e75fd540",
   "metadata": {},
   "outputs": [
    {
     "name": "stdout",
     "output_type": "stream",
     "text": [
      "Info    : Reading 'CrushiformShapeWithInclinedCrack.msh'...\n",
      "Info    : 33 entities\n",
      "Info    : 63823 nodes\n",
      "Info    : 127438 elements\n",
      "Info    : [ 10%] Reading elements                                          \r",
      "Info    : [ 20%] Reading elements                                          \r",
      "Info    : [ 30%] Reading elements                                          \r",
      "Info    : [ 40%] Reading elements                                          \r",
      "Info    : [ 50%] Reading elements                                          \r",
      "Info    : [ 50%] Reading elements                                          \r",
      "Info    : [ 60%] Reading elements                                          \r",
      "Info    : [ 70%] Reading elements                                          \r",
      "Info    : [ 80%] Reading elements                                          \r",
      "Info    : [ 90%] Reading elements                                          \r",
      "Info    : [100%] Reading elements                                          \r",
      "                                          \r",
      "Info    : Done reading 'CrushiformShapeWithInclinedCrack.msh'\n"
     ]
    },
    {
     "data": {
      "text/plain": [
       "3-element Vector{Vector{String}}:\n",
       " [\"CrushiformShapeWithInclinedCrack_0.vtu\"]\n",
       " [\"CrushiformShapeWithInclinedCrack_1.vtu\"]\n",
       " [\"CrushiformShapeWithInclinedCrack_2.vtu\"]"
      ]
     },
     "execution_count": 2,
     "metadata": {},
     "output_type": "execute_result"
    }
   ],
   "source": [
    "using  GridapGmsh\n",
    "using  Gridap\n",
    "using  Gridap.Geometry\n",
    "using  Gridap.TensorValues\n",
    "\n",
    "model = GmshDiscreteModel(\"CrushiformShapeWithInclinedCrack.msh\")\n",
    "writevtk(model,\"CrushiformShapeWithInclinedCrack\")"
   ]
  }
 ],
 "metadata": {
  "@webio": {
   "lastCommId": null,
   "lastKernelId": null
  },
  "kernelspec": {
   "display_name": "Julia 1.6.2",
   "language": "julia",
   "name": "julia-1.6"
  },
  "language_info": {
   "file_extension": ".jl",
   "mimetype": "application/julia",
   "name": "julia",
   "version": "1.6.2"
  }
 },
 "nbformat": 4,
 "nbformat_minor": 5
}
