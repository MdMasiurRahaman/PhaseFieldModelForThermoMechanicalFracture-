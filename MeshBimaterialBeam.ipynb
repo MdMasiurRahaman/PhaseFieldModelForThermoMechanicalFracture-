{
 "cells": [
  {
   "cell_type": "code",
   "execution_count": 1,
   "id": "03baf571",
   "metadata": {},
   "outputs": [
    {
     "name": "stdout",
     "output_type": "stream",
     "text": [
      "Info    : Meshing 1D...\n",
      "Info    : Meshing curve 1 (Line)\n",
      "Info    : Meshing curve 2 (Line)\n",
      "Info    : Meshing curve 3 (Line)\n",
      "Info    : Meshing curve 4 (Line)\n",
      "Info    : Meshing curve 5 (Line)\n",
      "Info    : Meshing curve 6 (Line)\n",
      "Info    : Meshing curve 7 (Line)\n",
      "Info    : Meshing curve 8 (Line)\n",
      "Info    : Meshing curve 9 (Line)\n",
      "Info    : Meshing curve 10 (Line)\n",
      "Info    : Meshing curve 11 (Line)\n",
      "Info    : Done meshing 1D (0.001841 s)\n",
      "Info    : Meshing 2D...\n",
      "Info    : Meshing surface 1 (Plane, Delaunay)\n",
      "Info    : Meshing surface 2 (Plane, Delaunay)\n",
      "Info    : Done meshing 2D (12.9339 s)\n",
      "Info    : 198434 vertices 397530 elements\n",
      "Info    : Writing 'BimaterialBeam.msh'...\n",
      "Info    : Done writing 'BimaterialBeam.msh'\n"
     ]
    }
   ],
   "source": [
    "using Gmsh: gmsh\n",
    "const L = 150\n",
    "const B_b = 31.7\n",
    "const B_s = 3.17\n",
    "const CrckPos = 30\n",
    "const ch = 15\n",
    "const cw = 0.1\n",
    "const lsp = 3*cw\n",
    "const hfc = lsp/4\n",
    "const hf = lsp/4\n",
    "const h = B_b/15\n",
    "gmsh.initialize()\n",
    "gmsh.option.setNumber(\"General.Terminal\", 1)\n",
    "gmsh.model.geo.addPoint(0.0, 0.0, 0.0, h, 1)\n",
    "gmsh.model.geo.addPoint(CrckPos, 0.0, 0.0, h, 2)\n",
    "gmsh.model.geo.addPoint(CrckPos, ch, 0.0, h, 3)\n",
    "gmsh.model.geo.addPoint(CrckPos+cw, ch, 0.0, h, 4)\n",
    "gmsh.model.geo.addPoint(CrckPos+cw, 0, 0.0, h, 5)\n",
    "gmsh.model.geo.addPoint(L, 0.0, 0.0, h, 6)\n",
    "gmsh.model.geo.addPoint(L, B_b, 0.0, h, 7)\n",
    "gmsh.model.geo.addPoint(L, B_b + B_s, 0.0, h, 8)\n",
    "gmsh.model.geo.addPoint(0, B_b + B_s, 0.0, h, 9)\n",
    "gmsh.model.geo.addPoint(0, B_b, 0.0, h, 10)\n",
    "gmsh.model.geo.addLine(1, 2, 1)\n",
    "gmsh.model.geo.addLine(2, 3, 2)\n",
    "gmsh.model.geo.addLine(3, 4, 3)\n",
    "gmsh.model.geo.addLine(4, 5, 4)\n",
    "gmsh.model.geo.addLine(5, 6, 5)\n",
    "gmsh.model.geo.addLine(6, 7, 6)\n",
    "gmsh.model.geo.addLine(7, 8, 7)\n",
    "gmsh.model.geo.addLine(8, 9, 8)\n",
    "gmsh.model.geo.addLine(9, 10, 9)\n",
    "gmsh.model.geo.addLine(10, 1, 10)\n",
    "gmsh.model.geo.addLine(7, 10, 11)\n",
    "gmsh.model.geo.addCurveLoop([1,2,3,4,5,6,11,10],1) \n",
    "gmsh.model.geo.addPlaneSurface([1], 1)\n",
    "gmsh.model.geo.addCurveLoop([-11,7,8,9],2) \n",
    "gmsh.model.geo.addPlaneSurface([2], 2)\n",
    "\n",
    "gmsh.model.addPhysicalGroup(2, [1],1)\n",
    "gmsh.model.addPhysicalGroup(2, [2],2)\n",
    "gmsh.model.addPhysicalGroup(1, [1,2,3,4,5,6,7,8,9,10],1)\n",
    "gmsh.model.setPhysicalName(2, 1, \"BGlass\")\n",
    "gmsh.model.setPhysicalName(2, 2, \"SSteel\")\n",
    "gmsh.model.setPhysicalName(1, 1, \"Boundary\")\n",
    "\n",
    "gmsh.model.mesh.field.add(\"Box\", 20)\n",
    "gmsh.model.mesh.field.setNumber(20, \"VIn\", hf)\n",
    "gmsh.model.mesh.field.setNumber(20, \"VOut\", h)\n",
    "gmsh.model.mesh.field.setNumber(20, \"XMin\", 0.8*CrckPos)\n",
    "gmsh.model.mesh.field.setNumber(20, \"XMax\",2.3*CrckPos)\n",
    "gmsh.model.mesh.field.setNumber(20, \"YMin\",0.85*ch)\n",
    "gmsh.model.mesh.field.setNumber(20, \"YMax\",B_b)\n",
    "gmsh.model.mesh.field.setAsBackgroundMesh(20)\n",
    "\n",
    "\n",
    "gmsh.model.geo.synchronize()\n",
    "gmsh.model.mesh.generate(2)\n",
    "gmsh.write(\"BimaterialBeam.msh\")\n",
    "gmsh.finalize()"
   ]
  },
  {
   "cell_type": "code",
   "execution_count": 2,
   "id": "a423267f",
   "metadata": {},
   "outputs": [
    {
     "name": "stdout",
     "output_type": "stream",
     "text": [
      "Info    : Reading 'BimaterialBeam.msh'...\n",
      "Info    : 23 entities\n",
      "Info    : 198434 nodes\n",
      "Info    : [ 10%] Reading nodes                                          \r",
      "Info    : [ 20%] Reading nodes                                          \r",
      "Info    : [ 30%] Reading nodes                                          \r",
      "Info    : [ 40%] Reading nodes                                          \r",
      "Info    : [ 50%] Reading nodes                                          \r",
      "Info    : [ 50%] Reading nodes                                          \r",
      "Info    : [ 60%] Reading nodes                                          \r",
      "Info    : [ 70%] Reading nodes                                          \r",
      "Info    : [ 80%] Reading nodes                                          \r",
      "Info    : [ 90%] Reading nodes                                          \r",
      "Info    : [100%] Reading nodes                                          \r",
      "                                          \r",
      "Info    : 396866 elements\n",
      "Info    : [ 10%] Reading elements                                          \r",
      "Info    : [ 20%] Reading elements                                          \r",
      "Info    : [ 30%] Reading elements                                          \r",
      "Info    : [ 40%] Reading elements                                          \r",
      "Info    : [ 50%] Reading elements                                          \r",
      "Info    : [ 50%] Reading elements                                          \r",
      "Info    : [ 60%] Reading elements                                          \r",
      "Info    : [ 70%] Reading elements                                          \r",
      "Info    : [ 80%] Reading elements                                          \r",
      "Info    : [ 90%] Reading elements                                          \r",
      "Info    : [100%] Reading elements                                          \r",
      "                                          \r",
      "Info    : Done reading 'BimaterialBeam.msh'\n"
     ]
    },
    {
     "data": {
      "text/plain": [
       "3-element Vector{Vector{String}}:\n",
       " [\"BimaterialBeam_0.vtu\"]\n",
       " [\"BimaterialBeam_1.vtu\"]\n",
       " [\"BimaterialBeam_2.vtu\"]"
      ]
     },
     "execution_count": 2,
     "metadata": {},
     "output_type": "execute_result"
    }
   ],
   "source": [
    "using  GridapGmsh\n",
    "using  Gridap\n",
    "using  Gridap.Geometry\n",
    "using  Gridap.TensorValues\n",
    "\n",
    "model = GmshDiscreteModel(\"BimaterialBeam.msh\")\n",
    "writevtk(model,\"BimaterialBeam\")"
   ]
  }
 ],
 "metadata": {
  "kernelspec": {
   "display_name": "Julia 1.6.2",
   "language": "julia",
   "name": "julia-1.6"
  },
  "language_info": {
   "file_extension": ".jl",
   "mimetype": "application/julia",
   "name": "julia",
   "version": "1.6.2"
  }
 },
 "nbformat": 4,
 "nbformat_minor": 5
}
