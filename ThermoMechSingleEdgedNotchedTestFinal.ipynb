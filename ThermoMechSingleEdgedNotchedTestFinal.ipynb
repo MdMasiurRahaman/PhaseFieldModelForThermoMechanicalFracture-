{
 "cells": [
  {
   "cell_type": "markdown",
   "id": "217522de",
   "metadata": {},
   "source": [
    "## This code is developed in Julia 1.5.3 version. One may require to do some minor modifications in order to run the code in a recent version of Julia."
   ]
  },
  {
   "cell_type": "code",
   "execution_count": null,
   "id": "administrative-handy",
   "metadata": {},
   "outputs": [],
   "source": [
    "using  GridapGmsh\n",
    "using  Gridap\n",
    "using  Gridap.Geometry\n",
    "using  Gridap.TensorValues\n",
    "using  Plots"
   ]
  },
  {
   "cell_type": "code",
   "execution_count": null,
   "id": "guided-literacy",
   "metadata": {},
   "outputs": [],
   "source": [
    "const T0 = 300\n",
    "const TAppMax = T0 + 50\n",
    "const delt = 1e-2\n",
    "const tMax = 1\n",
    "const uMax = 1.2e-6\n",
    "AppVel = uMax/tMax\n",
    "uMin = 0\n",
    "uTran = 0.2*uMax"
   ]
  },
  {
   "cell_type": "code",
   "execution_count": null,
   "id": "suitable-diameter",
   "metadata": {},
   "outputs": [],
   "source": [
    "using SymPy\n",
    "x,x₁ = symbols(\"x,x₁\", real = true)\n",
    "heaviside(x) = 0.5 * (sign(x) + 1)\n",
    "interval(x, a, b) = heaviside(x-a) - heaviside(x-b)\n",
    "hS = uMax/10\n",
    "F(x) = (T0 - TAppMax) * interval(x,-4*hS + uMin,uTran)\n",
    "wₕ(x,x₁) = (1/(sqrt(2*pi)*hS))*exp(-(x-x₁)^2/(2*hS^2))\n",
    "smoothT = SymPy.integrate(F(x₁)*wₕ(x,x₁),(x₁,-4*hS,uMax)) +  TAppMax\n",
    "plot(smoothT,0,uMax)"
   ]
  },
  {
   "cell_type": "code",
   "execution_count": null,
   "id": "removable-sitting",
   "metadata": {},
   "outputs": [],
   "source": [
    "function Tfun(u)  \n",
    "    if u <= uTran\n",
    "      return ((TAppMax - T0)/uTran)*u + T0\n",
    "    else\n",
    "     return  TAppMax\n",
    "    end\n",
    "end \n",
    "plot(Tfun,0,uMax)"
   ]
  },
  {
   "cell_type": "code",
   "execution_count": null,
   "id": "multiple-tension",
   "metadata": {},
   "outputs": [],
   "source": [
    "uAppVec = range(0,uMax,length = Int64(floor(tMax/delt)))\n",
    "\n",
    "AppTOption = 1 ## 1 for smooth and otherwise linear than constant\n",
    "if AppTOption == 1\n",
    "    TAppVec = smoothT.(uAppVec)\n",
    "  else\n",
    "    TAppVec = Tfun.(uAppVec) \n",
    "end "
   ]
  },
  {
   "cell_type": "code",
   "execution_count": null,
   "id": "related-charm",
   "metadata": {},
   "outputs": [],
   "source": [
    "const E = 340.0e9\n",
    "const ν= 0.22\n",
    "const Gc = 42.47\n",
    "const η= 1e-8\n",
    "const α= 8e-6\n",
    "const c = 0.775\n",
    "const κ_mat = 300.0\n",
    "const ρ= 2450"
   ]
  },
  {
   "cell_type": "code",
   "execution_count": null,
   "id": "7fb0232c",
   "metadata": {},
   "outputs": [],
   "source": [
    "using gmsh\n",
    "\n",
    "const L = 1e-3\n",
    "const H = 1e-3\n",
    "const lsp = L/300\n",
    "const CP = H/2\n",
    "const CL = 0.5*L \n",
    "const CH = H/2000\n",
    "const hfc = lsp/5\n",
    "const hf = lsp/4\n",
    "const h = 20*hf \n",
    "const FMR = 6*lsp\n",
    " \n",
    "gmsh.initialize()\n",
    "gmsh.option.setNumber(\"General.Terminal\", 1)\n",
    "gmsh.model.geo.addPoint(0.0, 0.0, 0.0, h, 1)  \n",
    "gmsh.model.geo.addPoint(L, 0.0, 0.0, h, 2) \n",
    "gmsh.model.geo.addPoint(L, H, 0.0, h, 3) \n",
    "gmsh.model.geo.addPoint(0.0, H, 0.0, h, 4)\n",
    "gmsh.model.geo.addPoint(0.0, CP + CH, 0.0, h, 5)\n",
    "gmsh.model.geo.addPoint(CL, CP + CH, 0.0, hfc, 6)\n",
    "gmsh.model.geo.addPoint(CL, CP - CH, 0.0, hfc, 7)\n",
    "gmsh.model.geo.addPoint(0.0, CP - CH, 0.0, h, 8)\n",
    "\n",
    "gmsh.model.geo.addLine(1, 2, 1)\n",
    "gmsh.model.geo.addLine(2, 3, 2)\n",
    "gmsh.model.geo.addLine(3, 4, 3)\n",
    "gmsh.model.geo.addLine(4, 5, 4)\n",
    "gmsh.model.geo.addLine(5, 6, 5)\n",
    "gmsh.model.geo.addLine(6, 7, 6)\n",
    "gmsh.model.geo.addLine(7, 8, 7)\n",
    "gmsh.model.geo.addLine(8, 1, 8)\n",
    "gmsh.model.geo.addCurveLoop([1,2,3,4,5,6,7,8],1) \n",
    "gmsh.model.geo.addPlaneSurface([1], 1)\n",
    "gmsh.model.addPhysicalGroup(2, [1],1)\n",
    "gmsh.model.addPhysicalGroup(1, [1],1)\n",
    "gmsh.model.addPhysicalGroup(1, [3],2)\n",
    "gmsh.model.setPhysicalName(2, 1, \"Domain\")\n",
    "gmsh.model.setPhysicalName(1, 1, \"BottomEdge\")\n",
    "gmsh.model.setPhysicalName(1, 2, \"TopEdge\")\n",
    "\n",
    "\n",
    "gmsh.model.mesh.field.add(\"Box\", 11)\n",
    "gmsh.model.mesh.field.setNumber(11, \"VIn\", hf)\n",
    "gmsh.model.mesh.field.setNumber(11, \"VOut\", h)\n",
    "gmsh.model.mesh.field.setNumber(11, \"XMin\", 0.8*CL)\n",
    "gmsh.model.mesh.field.setNumber(11, \"XMax\", L)\n",
    "gmsh.model.mesh.field.setNumber(11, \"YMin\", CP-FMR)\n",
    "gmsh.model.mesh.field.setNumber(11, \"YMax\", CP+FMR)\n",
    "gmsh.model.mesh.field.setAsBackgroundMesh(11)\n",
    "\n",
    "gmsh.model.geo.synchronize()\n",
    "gmsh.model.mesh.generate(2)\n",
    "gmsh.write(\"SquarePlateWithEdgeNotch.msh\")\n",
    "gmsh.finalize()"
   ]
  },
  {
   "cell_type": "code",
   "execution_count": null,
   "id": "competent-enterprise",
   "metadata": {},
   "outputs": [],
   "source": [
    "model = GmshDiscreteModel(\"SquarePlateWithEdgeNotch.msh\")\n",
    "writevtk(model ,\"SquarePlateWithEdgeNotch\")"
   ]
  },
  {
   "cell_type": "code",
   "execution_count": null,
   "id": "systematic-railway",
   "metadata": {},
   "outputs": [],
   "source": [
    "function  ElasFourthOrderConstTensor(E,ν,PlanarState)# 1 for  Plane  Stress  and 2 Plane  Strain  Condition\n",
    "    if  PlanarState  == 1\n",
    "        C1111 =E/(1-ν*ν)\n",
    "        C1122 = (ν*E)/(1-ν*ν)\n",
    "        C1112 = 0.0\n",
    "        C2222 =E/(1-ν*ν)\n",
    "        C2212 = 0.0\n",
    "        C1212 =E/(2*(1+ν))\n",
    "    elseif  PlanarState  == 2\n",
    "        C1111 = (E*(1-ν*ν))/((1+ν)*(1-ν-2*ν*ν))\n",
    "        C1122 = (ν*E)/(1-ν-2*ν*ν)\n",
    "        C1112 = 0.0\n",
    "        C2222 = (E*(1-ν))/(1-ν-2*ν*ν)\n",
    "        C2212 = 0.0\n",
    "        C1212 =E/(2*(1+ν))\n",
    "    end\n",
    "    C_ten = SymFourthOrderTensorValue(C1111 ,C1112 ,C1122 ,C1112 ,\n",
    "        C1212 ,C2212 ,C1122 ,C2212 ,C2222)\n",
    "    return   C_ten\n",
    "end"
   ]
  },
  {
   "cell_type": "code",
   "execution_count": null,
   "id": "sharing-shark",
   "metadata": {},
   "outputs": [],
   "source": [
    "const  C_mat = ElasFourthOrderConstTensor(E,ν,2)"
   ]
  },
  {
   "cell_type": "code",
   "execution_count": null,
   "id": "duplicate-copyright",
   "metadata": {},
   "outputs": [],
   "source": [
    "I2 = SymTensorValue{2,Float64}(1.0 ,0.0 ,1.0)\n",
    "I4 = I2 ⊗ I2\n",
    "I4_sym = one(SymFourthOrderTensorValue{2,Float64})\n",
    "I4_vol = (1.0/3)*I4\n",
    "I4_dev = I4_sym  - I4_vol"
   ]
  },
  {
   "cell_type": "code",
   "execution_count": null,
   "id": "dressed-liberty",
   "metadata": {},
   "outputs": [],
   "source": [
    "σ_elas(εElas) = C_mat ⊙ εElas"
   ]
  },
  {
   "cell_type": "code",
   "execution_count": null,
   "id": "careful-covering",
   "metadata": {},
   "outputs": [],
   "source": [
    "function σ_elasMod(ε,ε_in , s_in ,T,T_in)\n",
    "    εElas_in = ε_in - α*(T_in -T0)*I2\n",
    "    εElas = ε - α*(T-T0)*I2\n",
    "    if tr(εElas_in)  >= 0\n",
    "        σ= (s_in^2 +η)*σ_elas(εElas)\n",
    "    elseif  tr(εElas_in) < 0\n",
    "        σ= (s_in^2 +η) *I4_dev ⊙ σ_elas(εElas) + I4_vol ⊙ σ_elas(εElas)\n",
    "    end\n",
    "    return σ\n",
    "end"
   ]
  },
  {
   "cell_type": "code",
   "execution_count": null,
   "id": "continuous-fiction",
   "metadata": {},
   "outputs": [],
   "source": [
    "function σ_totMod(ε,ε_in ,s_in ,T,T_in)\n",
    "    εElas_in = ε_in - α*(T_in -T0)*I2\n",
    "    εElasTot = ε - α*T*I2\n",
    "    if tr(εElas_in) >= 0\n",
    "        σT = (s_in^2 +η)*σ_elas(εElasTot)\n",
    "    elseif  tr(εElas_in) < 0\n",
    "        σT = (s_in^2 +η) *I4_dev ⊙ σ_elas(εElasTot) + I4_vol ⊙ σ_elas(εElasTot)\n",
    "    end\n",
    "    return σT\n",
    "end"
   ]
  },
  {
   "cell_type": "code",
   "execution_count": null,
   "id": "empirical-biology",
   "metadata": {},
   "outputs": [],
   "source": [
    "function σ_thermMod(ε_in ,s_in ,T_in)\n",
    "    εElas_in = ε_in - α*(T_in -T0)*I2\n",
    "    εElasTher = α*(T0)*I2\n",
    "    if tr(εElas_in) >= 0\n",
    "        σF = (s_in^2 +η)*σ_elas(εElasTher)\n",
    "    elseif  tr(εElas_in) < 0\n",
    "        σF = (s_in^2 +η)*I4_dev ⊙ σ_elas(εElasTher) + I4_vol ⊙ σ_elas(εElasTher)\n",
    "    end\n",
    "    return σF\n",
    "end"
   ]
  },
  {
   "cell_type": "code",
   "execution_count": null,
   "id": "functional-following",
   "metadata": {},
   "outputs": [],
   "source": [
    "function ΨPos(ε_in ,T_in)\n",
    "    εElas_in = ε_in - α*(T_in -T0)*I2\n",
    "    if tr(εElas_in)  >= 0\n",
    "        ΨPlus = 0.5*((εElas_in) ⊙ σ_elas(εElas_in))\n",
    "    elseif  tr(εElas_in) < 0\n",
    "        ΨPlus = 0.5*(( I4_dev ⊙ σ_elas(εElas_in)) ⊙ (I4_dev ⊙ (εElas_in)))\n",
    "    end\n",
    "    return ΨPlus\n",
    "end"
   ]
  },
  {
   "cell_type": "code",
   "execution_count": null,
   "id": "behind-edgar",
   "metadata": {},
   "outputs": [],
   "source": [
    "order = 1\n",
    "reffe_PF = ReferenceFE(lagrangian ,Float64 ,order)\n",
    "V0_PF = TestFESpace(model ,reffe_PF;conformity =:H1)\n",
    "U_PF = TrialFESpace(V0_PF)\n",
    "sh = zero(V0_PF)"
   ]
  },
  {
   "cell_type": "code",
   "execution_count": null,
   "id": "eligible-creation",
   "metadata": {},
   "outputs": [],
   "source": [
    "reffe_Disp = ReferenceFE(lagrangian ,VectorValue{2,Float64},order)\n",
    "V0_Disp = TestFESpace(model ,reffe_Disp;conformity =:H1 ,dirichlet_tags =[\"BottomEdge\",\"TopEdge\"],\n",
    "    dirichlet_masks =[(true ,true) ,(false ,true)])\n",
    "uh = zero(V0_Disp)"
   ]
  },
  {
   "cell_type": "code",
   "execution_count": null,
   "id": "foster-lightweight",
   "metadata": {},
   "outputs": [],
   "source": [
    "reffe_Temp = ReferenceFE(lagrangian ,Float64 ,order)\n",
    "V0_Temp = TestFESpace(model ,reffe_Temp;\n",
    "    conformity =:H1 ,dirichlet_tags =[\"BottomEdge\",\"TopEdge\"])"
   ]
  },
  {
   "cell_type": "code",
   "execution_count": null,
   "id": "level-orange",
   "metadata": {},
   "outputs": [],
   "source": [
    "V0 = MultiFieldFESpace([V0_Disp,V0_Temp])"
   ]
  },
  {
   "cell_type": "code",
   "execution_count": null,
   "id": "developmental-vietnamese",
   "metadata": {},
   "outputs": [],
   "source": [
    "degree = 2* order\n",
    "Ω= Triangulation(model)\n",
    "dΩ= Measure(Ω,degree)"
   ]
  },
  {
   "cell_type": "code",
   "execution_count": null,
   "id": "residential-portable",
   "metadata": {},
   "outputs": [],
   "source": [
    "labels = get_face_labeling(model)\n",
    "LoadTagId = get_tag_from_name(labels ,\"TopEdge\")\n",
    "Γ_Load = BoundaryTriangulation(model ,tags = LoadTagId)\n",
    "dΓ_Load = Measure(Γ_Load ,degree)\n",
    "n_Γ_Load = get_normal_vector(Γ_Load)"
   ]
  },
  {
   "cell_type": "code",
   "execution_count": null,
   "id": "alternative-joseph",
   "metadata": {},
   "outputs": [],
   "source": [
    "function  project(q,model ,dΩ,order)\n",
    "    reffe = ReferenceFE(lagrangian ,Float64 ,order)\n",
    "    V = FESpace(model ,reffe ,conformity =:L2)\n",
    "    a(u,v) =∫(u*v)*dΩ\n",
    "    b(v) =∫(v*q)*dΩ\n",
    "    op = AffineFEOperator(a,b,V,V)\n",
    "    qh = Gridap.solve(op)\n",
    "    return  qh\n",
    "end"
   ]
  },
  {
   "cell_type": "code",
   "execution_count": null,
   "id": "least-devices",
   "metadata": {},
   "outputs": [],
   "source": [
    "function stepPhaseField(uh_in ,ΨPlusPrev_in)\n",
    "    a_PF(s,Φ) =∫( Gc*lsp*∇(Φ)⋅ ∇(s) + 2*ΨPlusPrev_in*s*Φ\n",
    "        + (Gc/lsp)*s*Φ)*dΩ\n",
    "    b_PF(Φ) =∫( (Gc/lsp)*Φ)*dΩ\n",
    "    op_PF = AffineFEOperator(a_PF ,b_PF ,U_PF ,V0_PF)\n",
    "    sh_out = Gridap.solve(op_PF)\n",
    "    return  sh_out\n",
    "end"
   ]
  },
  {
   "cell_type": "code",
   "execution_count": null,
   "id": "robust-vancouver",
   "metadata": {},
   "outputs": [],
   "source": [
    "κGradTemp(∇,s_in) = (s_in^2 +η)*κ_mat*∇"
   ]
  },
  {
   "cell_type": "code",
   "execution_count": null,
   "id": "supposed-canyon",
   "metadata": {},
   "outputs": [],
   "source": [
    "function    stepDispTemp(uh_in ,sh_in ,T_in ,vApp ,TApp ,delt)\n",
    "    uApp1(x) = VectorValue(0.0,0.0)\n",
    "    uApp2(x) = VectorValue(0.0,vApp)\n",
    "    U_Disp = TrialFESpace(V0_Disp ,[uApp1 ,uApp2])\n",
    "    Tapp1(x) = T0\n",
    "    Tapp2(x) = TApp\n",
    "    Tg = TrialFESpace(V0_Temp ,[Tapp1 , Tapp2])\n",
    "    U = MultiFieldFESpace([U_Disp ,Tg])\n",
    "    a((u,T) ,(v,w)) =∫( (ε(v) ⊙ (σ_totMod∘(ε(u),ε(uh_in),sh_in ,T,T_in))) + ∇(w)⋅(κGradTemp∘(∇(T),sh_in)) + ((ρ*c*T*w)/delt))*dΩ\n",
    "    b((v,w)) =∫(((ρ*c*T_in*w)/delt) - (ε(v)⊙(σ_thermMod∘(ε(uh_in),sh_in ,T_in))))*dΩ\n",
    "    op = AffineFEOperator(a,b,U,V0)\n",
    "    uhTh = Gridap.solve(op)\n",
    "    uh_out ,Th_out =   uhTh\n",
    "    return  uh_out ,Th_out\n",
    "end"
   ]
  },
  {
   "cell_type": "code",
   "execution_count": null,
   "id": "threatened-mainstream",
   "metadata": {},
   "outputs": [],
   "source": [
    "function  new_EnergyState(ψPlusPrev_in ,ψhPos_in)\n",
    "    ψPlus_in = ψhPos_in\n",
    "    if ψPlus_in  >= ψPlusPrev_in\n",
    "        ψPlus_out = ψPlus_in\n",
    "    else\n",
    "        ψPlus_out =ψPlusPrev_in\n",
    "    end\n",
    "    true ,ψPlus_out\n",
    "end"
   ]
  },
  {
   "cell_type": "code",
   "execution_count": null,
   "id": "collectible-fence",
   "metadata": {},
   "outputs": [],
   "source": [
    "t = 0.0\n",
    "innerMax = 10\n",
    "count = 0\n",
    "tol = 1e-8\n",
    "Load = Float64[]\n",
    "Displacement = Float64[]\n",
    "push!(Load , 0.0)\n",
    "push!(Displacement , 0.0)\n",
    "ΨPlusPrev = CellState(0.0,dΩ)\n",
    "sPrev = CellState(1.0,dΩ)\n",
    "sh = project(sPrev ,model ,dΩ,order)\n",
    "ThPrev = CellState(T0,dΩ)\n",
    "Th = project(ThPrev ,model ,dΩ,order)\n",
    "while t .< tMax\n",
    "    count = count  .+ 1\n",
    "    t = t + delt\n",
    "    vApp = AppVel*t\n",
    "    TApp = TAppVec[count]\n",
    "    print(\"\\n Entering  displacemtent  step :\", float(vApp))\n",
    "    for  inner = 1:innerMax\n",
    "        ΨhPlusPrev = project(ΨPlusPrev ,model ,dΩ,order)\n",
    "        RelErr = abs(sum(∫( Gc*lsp*∇(sh)⋅ ∇(sh) + 2*ΨhPlusPrev*sh*sh + (Gc/lsp)*sh*sh)*dΩ-∫( (Gc/lsp)*sh)*dΩ))/abs(sum(∫( (Gc/lsp)*sh)*dΩ))\n",
    "        sh = stepPhaseField(uh,ΨhPlusPrev)\n",
    "        uh ,Th = stepDispTemp(uh,sh ,Th,vApp ,TApp ,delt)\n",
    "        ΨhPos_in =ΨPos∘(ε(uh),Th)\n",
    "        update_state!( new_EnergyState ,ΨPlusPrev ,ΨhPos_in)\n",
    "        if  RelErr  < tol\n",
    "            break\n",
    "        end\n",
    "    end\n",
    "    Node_Force = sum(∫( n_Γ_Load⋅(σ_elasMod∘(ε(uh),ε(uh),sh,Th,Th)) ) *dΓ_Load)\n",
    "    push!(Load , Node_Force[2])\n",
    "    push!( Displacement , vApp)\n",
    "    writevtk(Ω,\"results_PhaseFieldThermoElastic\",cellfields=[\"uh\"=>uh,\"s\"=>sh ,\"epsi\"=>ε(uh),\"T\"=>Th])\n",
    "end"
   ]
  },
  {
   "cell_type": "code",
   "execution_count": null,
   "id": "vital-symphony",
   "metadata": {},
   "outputs": [],
   "source": [
    "plot(Displacement ,Load)"
   ]
  }
 ],
 "metadata": {
  "@webio": {
   "lastCommId": null,
   "lastKernelId": null
  },
  "kernelspec": {
   "display_name": "Julia 1.6.2",
   "language": "julia",
   "name": "julia-1.6"
  },
  "language_info": {
   "file_extension": ".jl",
   "mimetype": "application/julia",
   "name": "julia",
   "version": "1.6.2"
  }
 },
 "nbformat": 4,
 "nbformat_minor": 5
}
